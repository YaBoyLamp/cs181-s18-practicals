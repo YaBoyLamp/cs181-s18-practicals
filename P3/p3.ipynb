{
 "cells": [
  {
   "cell_type": "code",
   "execution_count": 1,
   "metadata": {},
   "outputs": [],
   "source": [
    "import pandas as pd\n",
    "import numpy as np\n",
    "from sklearn.linear_model import LinearRegression, BayesianRidge, LogisticRegression, RidgeClassifierCV\n",
    "from sklearn.ensemble import RandomForestClassifier, GradientBoostingRegressor\n",
    "from sklearn.neural_network import MLPClassifier\n",
    "from sklearn.neighbors import KNeighborsClassifier\n",
    "from sklearn.gaussian_process import GaussianProcessClassifier\n",
    "from sklearn.decomposition import PCA\n",
    "import sklearn.model_selection as ms\n",
    "from sklearn.svm import SVC\n",
    "import random"
   ]
  },
  {
   "cell_type": "code",
   "execution_count": 2,
   "metadata": {},
   "outputs": [],
   "source": [
    "n = 6325 #number of records in file\n",
    "s = 2000 #desired sample size\n",
    "filename = \"train.csv\"\n",
    "skip = sorted(random.sample(xrange(n),n-s))\n",
    "df_train_sample = pd.read_csv(filename, skiprows=skip, header=None)"
   ]
  },
  {
   "cell_type": "code",
   "execution_count": 3,
   "metadata": {},
   "outputs": [
    {
     "data": {
      "text/html": [
       "<div>\n",
       "<style scoped>\n",
       "    .dataframe tbody tr th:only-of-type {\n",
       "        vertical-align: middle;\n",
       "    }\n",
       "\n",
       "    .dataframe tbody tr th {\n",
       "        vertical-align: top;\n",
       "    }\n",
       "\n",
       "    .dataframe thead th {\n",
       "        text-align: right;\n",
       "    }\n",
       "</style>\n",
       "<table border=\"1\" class=\"dataframe\">\n",
       "  <thead>\n",
       "    <tr style=\"text-align: right;\">\n",
       "      <th></th>\n",
       "      <th>0</th>\n",
       "      <th>1</th>\n",
       "      <th>2</th>\n",
       "      <th>3</th>\n",
       "      <th>4</th>\n",
       "      <th>5</th>\n",
       "      <th>6</th>\n",
       "      <th>7</th>\n",
       "      <th>8</th>\n",
       "      <th>9</th>\n",
       "      <th>...</th>\n",
       "      <th>88190</th>\n",
       "      <th>88191</th>\n",
       "      <th>88192</th>\n",
       "      <th>88193</th>\n",
       "      <th>88194</th>\n",
       "      <th>88195</th>\n",
       "      <th>88196</th>\n",
       "      <th>88197</th>\n",
       "      <th>88198</th>\n",
       "      <th>88199</th>\n",
       "    </tr>\n",
       "  </thead>\n",
       "  <tbody>\n",
       "    <tr>\n",
       "      <th>0</th>\n",
       "      <td>0.000218</td>\n",
       "      <td>0.006255</td>\n",
       "      <td>0.011420</td>\n",
       "      <td>0.015926</td>\n",
       "      <td>0.018090</td>\n",
       "      <td>0.018111</td>\n",
       "      <td>0.017685</td>\n",
       "      <td>0.017037</td>\n",
       "      <td>0.018973</td>\n",
       "      <td>0.020819</td>\n",
       "      <td>...</td>\n",
       "      <td>-0.004272</td>\n",
       "      <td>-0.007386</td>\n",
       "      <td>-0.009816</td>\n",
       "      <td>-0.012220</td>\n",
       "      <td>-0.013219</td>\n",
       "      <td>-0.001098</td>\n",
       "      <td>0.000035</td>\n",
       "      <td>0.000455</td>\n",
       "      <td>0.001339</td>\n",
       "      <td>0.003039</td>\n",
       "    </tr>\n",
       "    <tr>\n",
       "      <th>1</th>\n",
       "      <td>0.020292</td>\n",
       "      <td>0.141777</td>\n",
       "      <td>0.275296</td>\n",
       "      <td>0.111601</td>\n",
       "      <td>0.224555</td>\n",
       "      <td>0.226531</td>\n",
       "      <td>0.062487</td>\n",
       "      <td>0.259656</td>\n",
       "      <td>-0.077982</td>\n",
       "      <td>-0.092875</td>\n",
       "      <td>...</td>\n",
       "      <td>-0.043492</td>\n",
       "      <td>0.095030</td>\n",
       "      <td>0.080447</td>\n",
       "      <td>0.104674</td>\n",
       "      <td>-0.004612</td>\n",
       "      <td>0.013853</td>\n",
       "      <td>0.000293</td>\n",
       "      <td>-0.091339</td>\n",
       "      <td>-0.091172</td>\n",
       "      <td>-0.013201</td>\n",
       "    </tr>\n",
       "    <tr>\n",
       "      <th>2</th>\n",
       "      <td>0.000392</td>\n",
       "      <td>0.010536</td>\n",
       "      <td>0.016760</td>\n",
       "      <td>0.018704</td>\n",
       "      <td>0.020736</td>\n",
       "      <td>0.019504</td>\n",
       "      <td>0.012633</td>\n",
       "      <td>0.005153</td>\n",
       "      <td>0.000507</td>\n",
       "      <td>-0.010927</td>\n",
       "      <td>...</td>\n",
       "      <td>0.005375</td>\n",
       "      <td>-0.000515</td>\n",
       "      <td>-0.008925</td>\n",
       "      <td>-0.015868</td>\n",
       "      <td>-0.012429</td>\n",
       "      <td>-0.011004</td>\n",
       "      <td>-0.012790</td>\n",
       "      <td>-0.009779</td>\n",
       "      <td>-0.010296</td>\n",
       "      <td>-0.001233</td>\n",
       "    </tr>\n",
       "    <tr>\n",
       "      <th>3</th>\n",
       "      <td>-0.002953</td>\n",
       "      <td>-0.004331</td>\n",
       "      <td>-0.003439</td>\n",
       "      <td>-0.003390</td>\n",
       "      <td>-0.002725</td>\n",
       "      <td>-0.003331</td>\n",
       "      <td>-0.003522</td>\n",
       "      <td>-0.003805</td>\n",
       "      <td>-0.003481</td>\n",
       "      <td>-0.002992</td>\n",
       "      <td>...</td>\n",
       "      <td>-0.012813</td>\n",
       "      <td>-0.011357</td>\n",
       "      <td>-0.009871</td>\n",
       "      <td>-0.008139</td>\n",
       "      <td>-0.006699</td>\n",
       "      <td>-0.008603</td>\n",
       "      <td>-0.007163</td>\n",
       "      <td>-0.005642</td>\n",
       "      <td>-0.004460</td>\n",
       "      <td>-0.003340</td>\n",
       "    </tr>\n",
       "    <tr>\n",
       "      <th>4</th>\n",
       "      <td>0.000000</td>\n",
       "      <td>0.000712</td>\n",
       "      <td>0.001424</td>\n",
       "      <td>0.002135</td>\n",
       "      <td>0.002843</td>\n",
       "      <td>0.003550</td>\n",
       "      <td>0.004253</td>\n",
       "      <td>0.004954</td>\n",
       "      <td>0.005650</td>\n",
       "      <td>0.006341</td>\n",
       "      <td>...</td>\n",
       "      <td>-0.007028</td>\n",
       "      <td>-0.006341</td>\n",
       "      <td>-0.005650</td>\n",
       "      <td>-0.004954</td>\n",
       "      <td>-0.004253</td>\n",
       "      <td>-0.003550</td>\n",
       "      <td>-0.002843</td>\n",
       "      <td>-0.002135</td>\n",
       "      <td>-0.001424</td>\n",
       "      <td>-0.000712</td>\n",
       "    </tr>\n",
       "  </tbody>\n",
       "</table>\n",
       "<p>5 rows × 88200 columns</p>\n",
       "</div>"
      ],
      "text/plain": [
       "      0         1         2         3         4         5         6      \\\n",
       "0  0.000218  0.006255  0.011420  0.015926  0.018090  0.018111  0.017685   \n",
       "1  0.020292  0.141777  0.275296  0.111601  0.224555  0.226531  0.062487   \n",
       "2  0.000392  0.010536  0.016760  0.018704  0.020736  0.019504  0.012633   \n",
       "3 -0.002953 -0.004331 -0.003439 -0.003390 -0.002725 -0.003331 -0.003522   \n",
       "4  0.000000  0.000712  0.001424  0.002135  0.002843  0.003550  0.004253   \n",
       "\n",
       "      7         8         9        ...        88190     88191     88192  \\\n",
       "0  0.017037  0.018973  0.020819    ...    -0.004272 -0.007386 -0.009816   \n",
       "1  0.259656 -0.077982 -0.092875    ...    -0.043492  0.095030  0.080447   \n",
       "2  0.005153  0.000507 -0.010927    ...     0.005375 -0.000515 -0.008925   \n",
       "3 -0.003805 -0.003481 -0.002992    ...    -0.012813 -0.011357 -0.009871   \n",
       "4  0.004954  0.005650  0.006341    ...    -0.007028 -0.006341 -0.005650   \n",
       "\n",
       "      88193     88194     88195     88196     88197     88198     88199  \n",
       "0 -0.012220 -0.013219 -0.001098  0.000035  0.000455  0.001339  0.003039  \n",
       "1  0.104674 -0.004612  0.013853  0.000293 -0.091339 -0.091172 -0.013201  \n",
       "2 -0.015868 -0.012429 -0.011004 -0.012790 -0.009779 -0.010296 -0.001233  \n",
       "3 -0.008139 -0.006699 -0.008603 -0.007163 -0.005642 -0.004460 -0.003340  \n",
       "4 -0.004954 -0.004253 -0.003550 -0.002843 -0.002135 -0.001424 -0.000712  \n",
       "\n",
       "[5 rows x 88200 columns]"
      ]
     },
     "execution_count": 3,
     "metadata": {},
     "output_type": "execute_result"
    }
   ],
   "source": [
    "# df_train_sample = pd.read_csv(\"train.csv\", nrows=1000, header=None)\n",
    "df_test = pd.read_csv(\"test.csv\", header=None)\n",
    "df_test.drop(df_test.columns[[0]], axis=1, inplace=True)\n",
    "Y_train = df_train_sample.iloc[:,-1]\n",
    "df_train_sample.drop(df_train_sample.columns[[-1]], axis=1, inplace=True)\n",
    "df_train_sample.head()\n"
   ]
  },
  {
   "cell_type": "code",
   "execution_count": 4,
   "metadata": {},
   "outputs": [],
   "source": [
    "X_train, X_validate, y_train, y_validate = ms.train_test_split(df_train_sample, Y_train, test_size=0.2)"
   ]
  },
  {
   "cell_type": "code",
   "execution_count": 5,
   "metadata": {},
   "outputs": [],
   "source": [
    "LR = LogisticRegression()\n",
    "LR.fit(X_train, y_train)\n",
    "LR_pred = LR.predict(X_validate)"
   ]
  },
  {
   "cell_type": "code",
   "execution_count": 6,
   "metadata": {},
   "outputs": [],
   "source": [
    "RF = RandomForestClassifier()\n",
    "RF.fit(X_train, y_train)\n",
    "RF_pred = RF.predict(X_validate)"
   ]
  },
  {
   "cell_type": "code",
   "execution_count": 7,
   "metadata": {},
   "outputs": [],
   "source": [
    "MLP = MLPClassifier()\n",
    "MLP.fit(X_train, y_train)\n",
    "MLP_pred = MLP.predict(X_validate)"
   ]
  },
  {
   "cell_type": "code",
   "execution_count": 8,
   "metadata": {},
   "outputs": [],
   "source": [
    "KNN = KNeighborsClassifier()\n",
    "KNN.fit(X_train, y_train)\n",
    "KNN_pred = KNN.predict(X_validate)"
   ]
  },
  {
   "cell_type": "code",
   "execution_count": 44,
   "metadata": {},
   "outputs": [],
   "source": [
    "SV = SVC()\n",
    "SV.fit(X_train, y_train)\n",
    "SV_pred = SV.predict(X_validate)"
   ]
  },
  {
   "cell_type": "code",
   "execution_count": 90,
   "metadata": {},
   "outputs": [],
   "source": [
    "Ridge = RidgeClassifierCV(alphas=np.linspace(14,15,1000))\n",
    "Ridge.fit(X_train, y_train)\n",
    "Ridge_pred = Ridge.predict(X_validate)"
   ]
  },
  {
   "cell_type": "code",
   "execution_count": 96,
   "metadata": {},
   "outputs": [
    {
     "ename": "KeyboardInterrupt",
     "evalue": "",
     "output_type": "error",
     "traceback": [
      "\u001b[1;31m\u001b[0m",
      "\u001b[1;31mKeyboardInterrupt\u001b[0mTraceback (most recent call last)",
      "\u001b[1;32m<ipython-input-96-34ae749d6a30>\u001b[0m in \u001b[0;36m<module>\u001b[1;34m()\u001b[0m\n\u001b[0;32m      1\u001b[0m \u001b[0mGP\u001b[0m \u001b[1;33m=\u001b[0m \u001b[0mGaussianProcessClassifier\u001b[0m\u001b[1;33m(\u001b[0m\u001b[1;33m)\u001b[0m\u001b[1;33m\u001b[0m\u001b[0m\n\u001b[1;32m----> 2\u001b[1;33m \u001b[0mGP\u001b[0m\u001b[1;33m.\u001b[0m\u001b[0mfit\u001b[0m\u001b[1;33m(\u001b[0m\u001b[0mX_train\u001b[0m\u001b[1;33m,\u001b[0m \u001b[0my_train\u001b[0m\u001b[1;33m)\u001b[0m\u001b[1;33m\u001b[0m\u001b[0m\n\u001b[0m\u001b[0;32m      3\u001b[0m \u001b[0mGP_pred\u001b[0m \u001b[1;33m=\u001b[0m \u001b[0mGP\u001b[0m\u001b[1;33m.\u001b[0m\u001b[0mpredict\u001b[0m\u001b[1;33m(\u001b[0m\u001b[0mX_validate\u001b[0m\u001b[1;33m)\u001b[0m\u001b[1;33m\u001b[0m\u001b[0m\n",
      "\u001b[1;32mC:\\Users\\David\\Anaconda2\\lib\\site-packages\\sklearn\\gaussian_process\\gpc.py\u001b[0m in \u001b[0;36mfit\u001b[1;34m(self, X, y)\u001b[0m\n\u001b[0;32m    611\u001b[0m                                  % self.multi_class)\n\u001b[0;32m    612\u001b[0m \u001b[1;33m\u001b[0m\u001b[0m\n\u001b[1;32m--> 613\u001b[1;33m         \u001b[0mself\u001b[0m\u001b[1;33m.\u001b[0m\u001b[0mbase_estimator_\u001b[0m\u001b[1;33m.\u001b[0m\u001b[0mfit\u001b[0m\u001b[1;33m(\u001b[0m\u001b[0mX\u001b[0m\u001b[1;33m,\u001b[0m \u001b[0my\u001b[0m\u001b[1;33m)\u001b[0m\u001b[1;33m\u001b[0m\u001b[0m\n\u001b[0m\u001b[0;32m    614\u001b[0m \u001b[1;33m\u001b[0m\u001b[0m\n\u001b[0;32m    615\u001b[0m         \u001b[1;32mif\u001b[0m \u001b[0mself\u001b[0m\u001b[1;33m.\u001b[0m\u001b[0mn_classes_\u001b[0m \u001b[1;33m>\u001b[0m \u001b[1;36m2\u001b[0m\u001b[1;33m:\u001b[0m\u001b[1;33m\u001b[0m\u001b[0m\n",
      "\u001b[1;32mC:\\Users\\David\\Anaconda2\\lib\\site-packages\\sklearn\\multiclass.py\u001b[0m in \u001b[0;36mfit\u001b[1;34m(self, X, y)\u001b[0m\n\u001b[0;32m    213\u001b[0m                 \u001b[1;34m\"not %s\"\u001b[0m \u001b[1;33m%\u001b[0m \u001b[0mself\u001b[0m\u001b[1;33m.\u001b[0m\u001b[0mlabel_binarizer_\u001b[0m\u001b[1;33m.\u001b[0m\u001b[0mclasses_\u001b[0m\u001b[1;33m[\u001b[0m\u001b[0mi\u001b[0m\u001b[1;33m]\u001b[0m\u001b[1;33m,\u001b[0m\u001b[1;33m\u001b[0m\u001b[0m\n\u001b[0;32m    214\u001b[0m                 self.label_binarizer_.classes_[i]])\n\u001b[1;32m--> 215\u001b[1;33m             for i, column in enumerate(columns))\n\u001b[0m\u001b[0;32m    216\u001b[0m \u001b[1;33m\u001b[0m\u001b[0m\n\u001b[0;32m    217\u001b[0m         \u001b[1;32mreturn\u001b[0m \u001b[0mself\u001b[0m\u001b[1;33m\u001b[0m\u001b[0m\n",
      "\u001b[1;32mC:\\Users\\David\\Anaconda2\\lib\\site-packages\\sklearn\\externals\\joblib\\parallel.pyc\u001b[0m in \u001b[0;36m__call__\u001b[1;34m(self, iterable)\u001b[0m\n\u001b[0;32m    777\u001b[0m             \u001b[1;31m# was dispatched. In particular this covers the edge\u001b[0m\u001b[1;33m\u001b[0m\u001b[1;33m\u001b[0m\u001b[0m\n\u001b[0;32m    778\u001b[0m             \u001b[1;31m# case of Parallel used with an exhausted iterator.\u001b[0m\u001b[1;33m\u001b[0m\u001b[1;33m\u001b[0m\u001b[0m\n\u001b[1;32m--> 779\u001b[1;33m             \u001b[1;32mwhile\u001b[0m \u001b[0mself\u001b[0m\u001b[1;33m.\u001b[0m\u001b[0mdispatch_one_batch\u001b[0m\u001b[1;33m(\u001b[0m\u001b[0miterator\u001b[0m\u001b[1;33m)\u001b[0m\u001b[1;33m:\u001b[0m\u001b[1;33m\u001b[0m\u001b[0m\n\u001b[0m\u001b[0;32m    780\u001b[0m                 \u001b[0mself\u001b[0m\u001b[1;33m.\u001b[0m\u001b[0m_iterating\u001b[0m \u001b[1;33m=\u001b[0m \u001b[0mTrue\u001b[0m\u001b[1;33m\u001b[0m\u001b[0m\n\u001b[0;32m    781\u001b[0m             \u001b[1;32melse\u001b[0m\u001b[1;33m:\u001b[0m\u001b[1;33m\u001b[0m\u001b[0m\n",
      "\u001b[1;32mC:\\Users\\David\\Anaconda2\\lib\\site-packages\\sklearn\\externals\\joblib\\parallel.pyc\u001b[0m in \u001b[0;36mdispatch_one_batch\u001b[1;34m(self, iterator)\u001b[0m\n\u001b[0;32m    623\u001b[0m                 \u001b[1;32mreturn\u001b[0m \u001b[0mFalse\u001b[0m\u001b[1;33m\u001b[0m\u001b[0m\n\u001b[0;32m    624\u001b[0m             \u001b[1;32melse\u001b[0m\u001b[1;33m:\u001b[0m\u001b[1;33m\u001b[0m\u001b[0m\n\u001b[1;32m--> 625\u001b[1;33m                 \u001b[0mself\u001b[0m\u001b[1;33m.\u001b[0m\u001b[0m_dispatch\u001b[0m\u001b[1;33m(\u001b[0m\u001b[0mtasks\u001b[0m\u001b[1;33m)\u001b[0m\u001b[1;33m\u001b[0m\u001b[0m\n\u001b[0m\u001b[0;32m    626\u001b[0m                 \u001b[1;32mreturn\u001b[0m \u001b[0mTrue\u001b[0m\u001b[1;33m\u001b[0m\u001b[0m\n\u001b[0;32m    627\u001b[0m \u001b[1;33m\u001b[0m\u001b[0m\n",
      "\u001b[1;32mC:\\Users\\David\\Anaconda2\\lib\\site-packages\\sklearn\\externals\\joblib\\parallel.pyc\u001b[0m in \u001b[0;36m_dispatch\u001b[1;34m(self, batch)\u001b[0m\n\u001b[0;32m    586\u001b[0m         \u001b[0mdispatch_timestamp\u001b[0m \u001b[1;33m=\u001b[0m \u001b[0mtime\u001b[0m\u001b[1;33m.\u001b[0m\u001b[0mtime\u001b[0m\u001b[1;33m(\u001b[0m\u001b[1;33m)\u001b[0m\u001b[1;33m\u001b[0m\u001b[0m\n\u001b[0;32m    587\u001b[0m         \u001b[0mcb\u001b[0m \u001b[1;33m=\u001b[0m \u001b[0mBatchCompletionCallBack\u001b[0m\u001b[1;33m(\u001b[0m\u001b[0mdispatch_timestamp\u001b[0m\u001b[1;33m,\u001b[0m \u001b[0mlen\u001b[0m\u001b[1;33m(\u001b[0m\u001b[0mbatch\u001b[0m\u001b[1;33m)\u001b[0m\u001b[1;33m,\u001b[0m \u001b[0mself\u001b[0m\u001b[1;33m)\u001b[0m\u001b[1;33m\u001b[0m\u001b[0m\n\u001b[1;32m--> 588\u001b[1;33m         \u001b[0mjob\u001b[0m \u001b[1;33m=\u001b[0m \u001b[0mself\u001b[0m\u001b[1;33m.\u001b[0m\u001b[0m_backend\u001b[0m\u001b[1;33m.\u001b[0m\u001b[0mapply_async\u001b[0m\u001b[1;33m(\u001b[0m\u001b[0mbatch\u001b[0m\u001b[1;33m,\u001b[0m \u001b[0mcallback\u001b[0m\u001b[1;33m=\u001b[0m\u001b[0mcb\u001b[0m\u001b[1;33m)\u001b[0m\u001b[1;33m\u001b[0m\u001b[0m\n\u001b[0m\u001b[0;32m    589\u001b[0m         \u001b[0mself\u001b[0m\u001b[1;33m.\u001b[0m\u001b[0m_jobs\u001b[0m\u001b[1;33m.\u001b[0m\u001b[0mappend\u001b[0m\u001b[1;33m(\u001b[0m\u001b[0mjob\u001b[0m\u001b[1;33m)\u001b[0m\u001b[1;33m\u001b[0m\u001b[0m\n\u001b[0;32m    590\u001b[0m \u001b[1;33m\u001b[0m\u001b[0m\n",
      "\u001b[1;32mC:\\Users\\David\\Anaconda2\\lib\\site-packages\\sklearn\\externals\\joblib\\_parallel_backends.pyc\u001b[0m in \u001b[0;36mapply_async\u001b[1;34m(self, func, callback)\u001b[0m\n\u001b[0;32m    109\u001b[0m     \u001b[1;32mdef\u001b[0m \u001b[0mapply_async\u001b[0m\u001b[1;33m(\u001b[0m\u001b[0mself\u001b[0m\u001b[1;33m,\u001b[0m \u001b[0mfunc\u001b[0m\u001b[1;33m,\u001b[0m \u001b[0mcallback\u001b[0m\u001b[1;33m=\u001b[0m\u001b[0mNone\u001b[0m\u001b[1;33m)\u001b[0m\u001b[1;33m:\u001b[0m\u001b[1;33m\u001b[0m\u001b[0m\n\u001b[0;32m    110\u001b[0m         \u001b[1;34m\"\"\"Schedule a func to be run\"\"\"\u001b[0m\u001b[1;33m\u001b[0m\u001b[0m\n\u001b[1;32m--> 111\u001b[1;33m         \u001b[0mresult\u001b[0m \u001b[1;33m=\u001b[0m \u001b[0mImmediateResult\u001b[0m\u001b[1;33m(\u001b[0m\u001b[0mfunc\u001b[0m\u001b[1;33m)\u001b[0m\u001b[1;33m\u001b[0m\u001b[0m\n\u001b[0m\u001b[0;32m    112\u001b[0m         \u001b[1;32mif\u001b[0m \u001b[0mcallback\u001b[0m\u001b[1;33m:\u001b[0m\u001b[1;33m\u001b[0m\u001b[0m\n\u001b[0;32m    113\u001b[0m             \u001b[0mcallback\u001b[0m\u001b[1;33m(\u001b[0m\u001b[0mresult\u001b[0m\u001b[1;33m)\u001b[0m\u001b[1;33m\u001b[0m\u001b[0m\n",
      "\u001b[1;32mC:\\Users\\David\\Anaconda2\\lib\\site-packages\\sklearn\\externals\\joblib\\_parallel_backends.pyc\u001b[0m in \u001b[0;36m__init__\u001b[1;34m(self, batch)\u001b[0m\n\u001b[0;32m    330\u001b[0m         \u001b[1;31m# Don't delay the application, to avoid keeping the input\u001b[0m\u001b[1;33m\u001b[0m\u001b[1;33m\u001b[0m\u001b[0m\n\u001b[0;32m    331\u001b[0m         \u001b[1;31m# arguments in memory\u001b[0m\u001b[1;33m\u001b[0m\u001b[1;33m\u001b[0m\u001b[0m\n\u001b[1;32m--> 332\u001b[1;33m         \u001b[0mself\u001b[0m\u001b[1;33m.\u001b[0m\u001b[0mresults\u001b[0m \u001b[1;33m=\u001b[0m \u001b[0mbatch\u001b[0m\u001b[1;33m(\u001b[0m\u001b[1;33m)\u001b[0m\u001b[1;33m\u001b[0m\u001b[0m\n\u001b[0m\u001b[0;32m    333\u001b[0m \u001b[1;33m\u001b[0m\u001b[0m\n\u001b[0;32m    334\u001b[0m     \u001b[1;32mdef\u001b[0m \u001b[0mget\u001b[0m\u001b[1;33m(\u001b[0m\u001b[0mself\u001b[0m\u001b[1;33m)\u001b[0m\u001b[1;33m:\u001b[0m\u001b[1;33m\u001b[0m\u001b[0m\n",
      "\u001b[1;32mC:\\Users\\David\\Anaconda2\\lib\\site-packages\\sklearn\\externals\\joblib\\parallel.pyc\u001b[0m in \u001b[0;36m__call__\u001b[1;34m(self)\u001b[0m\n\u001b[0;32m    129\u001b[0m \u001b[1;33m\u001b[0m\u001b[0m\n\u001b[0;32m    130\u001b[0m     \u001b[1;32mdef\u001b[0m \u001b[0m__call__\u001b[0m\u001b[1;33m(\u001b[0m\u001b[0mself\u001b[0m\u001b[1;33m)\u001b[0m\u001b[1;33m:\u001b[0m\u001b[1;33m\u001b[0m\u001b[0m\n\u001b[1;32m--> 131\u001b[1;33m         \u001b[1;32mreturn\u001b[0m \u001b[1;33m[\u001b[0m\u001b[0mfunc\u001b[0m\u001b[1;33m(\u001b[0m\u001b[1;33m*\u001b[0m\u001b[0margs\u001b[0m\u001b[1;33m,\u001b[0m \u001b[1;33m**\u001b[0m\u001b[0mkwargs\u001b[0m\u001b[1;33m)\u001b[0m \u001b[1;32mfor\u001b[0m \u001b[0mfunc\u001b[0m\u001b[1;33m,\u001b[0m \u001b[0margs\u001b[0m\u001b[1;33m,\u001b[0m \u001b[0mkwargs\u001b[0m \u001b[1;32min\u001b[0m \u001b[0mself\u001b[0m\u001b[1;33m.\u001b[0m\u001b[0mitems\u001b[0m\u001b[1;33m]\u001b[0m\u001b[1;33m\u001b[0m\u001b[0m\n\u001b[0m\u001b[0;32m    132\u001b[0m \u001b[1;33m\u001b[0m\u001b[0m\n\u001b[0;32m    133\u001b[0m     \u001b[1;32mdef\u001b[0m \u001b[0m__len__\u001b[0m\u001b[1;33m(\u001b[0m\u001b[0mself\u001b[0m\u001b[1;33m)\u001b[0m\u001b[1;33m:\u001b[0m\u001b[1;33m\u001b[0m\u001b[0m\n",
      "\u001b[1;32mC:\\Users\\David\\Anaconda2\\lib\\site-packages\\sklearn\\multiclass.py\u001b[0m in \u001b[0;36m_fit_binary\u001b[1;34m(estimator, X, y, classes)\u001b[0m\n\u001b[0;32m     78\u001b[0m     \u001b[1;32melse\u001b[0m\u001b[1;33m:\u001b[0m\u001b[1;33m\u001b[0m\u001b[0m\n\u001b[0;32m     79\u001b[0m         \u001b[0mestimator\u001b[0m \u001b[1;33m=\u001b[0m \u001b[0mclone\u001b[0m\u001b[1;33m(\u001b[0m\u001b[0mestimator\u001b[0m\u001b[1;33m)\u001b[0m\u001b[1;33m\u001b[0m\u001b[0m\n\u001b[1;32m---> 80\u001b[1;33m         \u001b[0mestimator\u001b[0m\u001b[1;33m.\u001b[0m\u001b[0mfit\u001b[0m\u001b[1;33m(\u001b[0m\u001b[0mX\u001b[0m\u001b[1;33m,\u001b[0m \u001b[0my\u001b[0m\u001b[1;33m)\u001b[0m\u001b[1;33m\u001b[0m\u001b[0m\n\u001b[0m\u001b[0;32m     81\u001b[0m     \u001b[1;32mreturn\u001b[0m \u001b[0mestimator\u001b[0m\u001b[1;33m\u001b[0m\u001b[0m\n\u001b[0;32m     82\u001b[0m \u001b[1;33m\u001b[0m\u001b[0m\n",
      "\u001b[1;32mC:\\Users\\David\\Anaconda2\\lib\\site-packages\\sklearn\\gaussian_process\\gpc.py\u001b[0m in \u001b[0;36mfit\u001b[1;34m(self, X, y)\u001b[0m\n\u001b[0;32m    230\u001b[0m         \u001b[1;32melse\u001b[0m\u001b[1;33m:\u001b[0m\u001b[1;33m\u001b[0m\u001b[0m\n\u001b[0;32m    231\u001b[0m             \u001b[0mself\u001b[0m\u001b[1;33m.\u001b[0m\u001b[0mlog_marginal_likelihood_value_\u001b[0m \u001b[1;33m=\u001b[0m\u001b[0;31m \u001b[0m\u001b[0;31m\\\u001b[0m\u001b[1;33m\u001b[0m\u001b[0m\n\u001b[1;32m--> 232\u001b[1;33m                 \u001b[0mself\u001b[0m\u001b[1;33m.\u001b[0m\u001b[0mlog_marginal_likelihood\u001b[0m\u001b[1;33m(\u001b[0m\u001b[0mself\u001b[0m\u001b[1;33m.\u001b[0m\u001b[0mkernel_\u001b[0m\u001b[1;33m.\u001b[0m\u001b[0mtheta\u001b[0m\u001b[1;33m)\u001b[0m\u001b[1;33m\u001b[0m\u001b[0m\n\u001b[0m\u001b[0;32m    233\u001b[0m \u001b[1;33m\u001b[0m\u001b[0m\n\u001b[0;32m    234\u001b[0m         \u001b[1;31m# Precompute quantities required for predictions which are independent\u001b[0m\u001b[1;33m\u001b[0m\u001b[1;33m\u001b[0m\u001b[0m\n",
      "\u001b[1;32mC:\\Users\\David\\Anaconda2\\lib\\site-packages\\sklearn\\gaussian_process\\gpc.py\u001b[0m in \u001b[0;36mlog_marginal_likelihood\u001b[1;34m(self, theta, eval_gradient)\u001b[0m\n\u001b[0;32m    338\u001b[0m             \u001b[0mK\u001b[0m\u001b[1;33m,\u001b[0m \u001b[0mK_gradient\u001b[0m \u001b[1;33m=\u001b[0m \u001b[0mkernel\u001b[0m\u001b[1;33m(\u001b[0m\u001b[0mself\u001b[0m\u001b[1;33m.\u001b[0m\u001b[0mX_train_\u001b[0m\u001b[1;33m,\u001b[0m \u001b[0meval_gradient\u001b[0m\u001b[1;33m=\u001b[0m\u001b[0mTrue\u001b[0m\u001b[1;33m)\u001b[0m\u001b[1;33m\u001b[0m\u001b[0m\n\u001b[0;32m    339\u001b[0m         \u001b[1;32melse\u001b[0m\u001b[1;33m:\u001b[0m\u001b[1;33m\u001b[0m\u001b[0m\n\u001b[1;32m--> 340\u001b[1;33m             \u001b[0mK\u001b[0m \u001b[1;33m=\u001b[0m \u001b[0mkernel\u001b[0m\u001b[1;33m(\u001b[0m\u001b[0mself\u001b[0m\u001b[1;33m.\u001b[0m\u001b[0mX_train_\u001b[0m\u001b[1;33m)\u001b[0m\u001b[1;33m\u001b[0m\u001b[0m\n\u001b[0m\u001b[0;32m    341\u001b[0m \u001b[1;33m\u001b[0m\u001b[0m\n\u001b[0;32m    342\u001b[0m         \u001b[1;31m# Compute log-marginal-likelihood Z and also store some temporaries\u001b[0m\u001b[1;33m\u001b[0m\u001b[1;33m\u001b[0m\u001b[0m\n",
      "\u001b[1;32mC:\\Users\\David\\Anaconda2\\lib\\site-packages\\sklearn\\gaussian_process\\kernels.py\u001b[0m in \u001b[0;36m__call__\u001b[1;34m(self, X, Y, eval_gradient)\u001b[0m\n\u001b[0;32m    756\u001b[0m                                        K2_gradient * K1[:, :, np.newaxis]))\n\u001b[0;32m    757\u001b[0m         \u001b[1;32melse\u001b[0m\u001b[1;33m:\u001b[0m\u001b[1;33m\u001b[0m\u001b[0m\n\u001b[1;32m--> 758\u001b[1;33m             \u001b[1;32mreturn\u001b[0m \u001b[0mself\u001b[0m\u001b[1;33m.\u001b[0m\u001b[0mk1\u001b[0m\u001b[1;33m(\u001b[0m\u001b[0mX\u001b[0m\u001b[1;33m,\u001b[0m \u001b[0mY\u001b[0m\u001b[1;33m)\u001b[0m \u001b[1;33m*\u001b[0m \u001b[0mself\u001b[0m\u001b[1;33m.\u001b[0m\u001b[0mk2\u001b[0m\u001b[1;33m(\u001b[0m\u001b[0mX\u001b[0m\u001b[1;33m,\u001b[0m \u001b[0mY\u001b[0m\u001b[1;33m)\u001b[0m\u001b[1;33m\u001b[0m\u001b[0m\n\u001b[0m\u001b[0;32m    759\u001b[0m \u001b[1;33m\u001b[0m\u001b[0m\n\u001b[0;32m    760\u001b[0m     \u001b[1;32mdef\u001b[0m \u001b[0mdiag\u001b[0m\u001b[1;33m(\u001b[0m\u001b[0mself\u001b[0m\u001b[1;33m,\u001b[0m \u001b[0mX\u001b[0m\u001b[1;33m)\u001b[0m\u001b[1;33m:\u001b[0m\u001b[1;33m\u001b[0m\u001b[0m\n",
      "\u001b[1;32mC:\\Users\\David\\Anaconda2\\lib\\site-packages\\sklearn\\gaussian_process\\kernels.py\u001b[0m in \u001b[0;36m__call__\u001b[1;34m(self, X, Y, eval_gradient)\u001b[0m\n\u001b[0;32m   1203\u001b[0m         \u001b[0mlength_scale\u001b[0m \u001b[1;33m=\u001b[0m \u001b[0m_check_length_scale\u001b[0m\u001b[1;33m(\u001b[0m\u001b[0mX\u001b[0m\u001b[1;33m,\u001b[0m \u001b[0mself\u001b[0m\u001b[1;33m.\u001b[0m\u001b[0mlength_scale\u001b[0m\u001b[1;33m)\u001b[0m\u001b[1;33m\u001b[0m\u001b[0m\n\u001b[0;32m   1204\u001b[0m         \u001b[1;32mif\u001b[0m \u001b[0mY\u001b[0m \u001b[1;32mis\u001b[0m \u001b[0mNone\u001b[0m\u001b[1;33m:\u001b[0m\u001b[1;33m\u001b[0m\u001b[0m\n\u001b[1;32m-> 1205\u001b[1;33m             \u001b[0mdists\u001b[0m \u001b[1;33m=\u001b[0m \u001b[0mpdist\u001b[0m\u001b[1;33m(\u001b[0m\u001b[0mX\u001b[0m \u001b[1;33m/\u001b[0m \u001b[0mlength_scale\u001b[0m\u001b[1;33m,\u001b[0m \u001b[0mmetric\u001b[0m\u001b[1;33m=\u001b[0m\u001b[1;34m'sqeuclidean'\u001b[0m\u001b[1;33m)\u001b[0m\u001b[1;33m\u001b[0m\u001b[0m\n\u001b[0m\u001b[0;32m   1206\u001b[0m             \u001b[0mK\u001b[0m \u001b[1;33m=\u001b[0m \u001b[0mnp\u001b[0m\u001b[1;33m.\u001b[0m\u001b[0mexp\u001b[0m\u001b[1;33m(\u001b[0m\u001b[1;33m-\u001b[0m\u001b[1;36m.5\u001b[0m \u001b[1;33m*\u001b[0m \u001b[0mdists\u001b[0m\u001b[1;33m)\u001b[0m\u001b[1;33m\u001b[0m\u001b[0m\n\u001b[0;32m   1207\u001b[0m             \u001b[1;31m# convert from upper-triangular matrix to square matrix\u001b[0m\u001b[1;33m\u001b[0m\u001b[1;33m\u001b[0m\u001b[0m\n",
      "\u001b[1;32mC:\\Users\\David\\Anaconda2\\lib\\site-packages\\scipy\\spatial\\distance.pyc\u001b[0m in \u001b[0;36mpdist\u001b[1;34m(X, metric, *args, **kwargs)\u001b[0m\n\u001b[0;32m   1712\u001b[0m             pdist_fn = getattr(_distance_wrap,\n\u001b[0;32m   1713\u001b[0m                                \"pdist_%s_%s_wrap\" % (metric_name, typ))\n\u001b[1;32m-> 1714\u001b[1;33m             \u001b[0mpdist_fn\u001b[0m\u001b[1;33m(\u001b[0m\u001b[0mX\u001b[0m\u001b[1;33m,\u001b[0m \u001b[0mdm\u001b[0m\u001b[1;33m,\u001b[0m \u001b[1;33m**\u001b[0m\u001b[0mkwargs\u001b[0m\u001b[1;33m)\u001b[0m\u001b[1;33m\u001b[0m\u001b[0m\n\u001b[0m\u001b[0;32m   1715\u001b[0m             \u001b[1;32mreturn\u001b[0m \u001b[0mdm\u001b[0m\u001b[1;33m\u001b[0m\u001b[0m\n\u001b[0;32m   1716\u001b[0m \u001b[1;33m\u001b[0m\u001b[0m\n",
      "\u001b[1;31mKeyboardInterrupt\u001b[0m: "
     ]
    }
   ],
   "source": [
    "GP = GaussianProcessClassifier()\n",
    "GP.fit(X_train, y_train)\n",
    "GP_pred = GP.predict(X_validate)"
   ]
  },
  {
   "cell_type": "code",
   "execution_count": 11,
   "metadata": {},
   "outputs": [],
   "source": [
    "pca = PCA(n_components=800)\n",
    "X_train_red = pca.fit_transform(X_train)\n",
    "X_validate_red = pca.transform(X_validate)\n",
    "df_test_red = pca.transform(df_test)"
   ]
  },
  {
   "cell_type": "code",
   "execution_count": 13,
   "metadata": {},
   "outputs": [
    {
     "data": {
      "text/plain": [
       "array([5.67956094e-02, 4.70946978e-02, 4.70218013e-02, 4.67531168e-02,\n",
       "       4.10379863e-02, 3.69399783e-02, 1.16647529e-02, 1.10153975e-02,\n",
       "       1.08274687e-02, 1.03400242e-02, 9.80849925e-03, 8.53574758e-03,\n",
       "       7.99029559e-03, 7.61149635e-03, 7.40547034e-03, 7.31815634e-03,\n",
       "       7.08226854e-03, 6.47064570e-03, 6.23866280e-03, 5.97824499e-03,\n",
       "       5.89199229e-03, 5.60461970e-03, 5.54351559e-03, 5.45553769e-03,\n",
       "       4.90513573e-03, 4.71853958e-03, 4.69283896e-03, 4.40897814e-03,\n",
       "       4.20775294e-03, 3.92632786e-03, 3.87627395e-03, 3.72331719e-03,\n",
       "       3.62505180e-03, 3.50676774e-03, 3.49332670e-03, 3.46244103e-03,\n",
       "       3.41647917e-03, 3.32976900e-03, 3.29455608e-03, 3.27168504e-03,\n",
       "       3.22883348e-03, 3.20978514e-03, 3.16604943e-03, 3.12665557e-03,\n",
       "       3.11052972e-03, 3.08272655e-03, 3.03397756e-03, 2.99499465e-03,\n",
       "       2.97587769e-03, 2.96823798e-03, 2.91038350e-03, 2.89547834e-03,\n",
       "       2.87481897e-03, 2.84683973e-03, 2.83504305e-03, 2.80522503e-03,\n",
       "       2.77974034e-03, 2.74716888e-03, 2.71156137e-03, 2.68085439e-03,\n",
       "       2.60756774e-03, 2.59444956e-03, 2.58207039e-03, 2.54146780e-03,\n",
       "       2.53060749e-03, 2.49773121e-03, 2.48469946e-03, 2.46172928e-03,\n",
       "       2.44157030e-03, 2.41951745e-03, 2.41476484e-03, 2.36331828e-03,\n",
       "       2.34223775e-03, 2.32418045e-03, 2.31767728e-03, 2.30965178e-03,\n",
       "       2.28794484e-03, 2.26107790e-03, 2.22907051e-03, 2.16589846e-03,\n",
       "       2.14234725e-03, 2.13888984e-03, 2.12856752e-03, 2.11396644e-03,\n",
       "       2.10058216e-03, 2.08778986e-03, 2.07486122e-03, 2.06530021e-03,\n",
       "       2.05547878e-03, 2.03546123e-03, 2.01600773e-03, 2.00701521e-03,\n",
       "       1.98207501e-03, 1.96441463e-03, 1.96109556e-03, 1.95514235e-03,\n",
       "       1.93404274e-03, 1.91822514e-03, 1.91382212e-03, 1.89262720e-03,\n",
       "       1.89056821e-03, 1.87570675e-03, 1.85835697e-03, 1.85340452e-03,\n",
       "       1.84023816e-03, 1.81395187e-03, 1.79896823e-03, 1.78814949e-03,\n",
       "       1.77323916e-03, 1.74839939e-03, 1.73742808e-03, 1.72760253e-03,\n",
       "       1.70663995e-03, 1.70295796e-03, 1.68648650e-03, 1.67752131e-03,\n",
       "       1.67161874e-03, 1.65499724e-03, 1.63064120e-03, 1.62262270e-03,\n",
       "       1.61801834e-03, 1.59694709e-03, 1.58649189e-03, 1.55641388e-03,\n",
       "       1.55169484e-03, 1.54002924e-03, 1.52933576e-03, 1.51612497e-03,\n",
       "       1.51113265e-03, 1.50442341e-03, 1.49016380e-03, 1.48072615e-03,\n",
       "       1.46758808e-03, 1.46562665e-03, 1.45921009e-03, 1.44740436e-03,\n",
       "       1.43096448e-03, 1.42586934e-03, 1.41189895e-03, 1.40505198e-03,\n",
       "       1.39378537e-03, 1.38625889e-03, 1.38459966e-03, 1.37956359e-03,\n",
       "       1.37323341e-03, 1.36759315e-03, 1.35367786e-03, 1.33070440e-03,\n",
       "       1.32909290e-03, 1.32407758e-03, 1.31642664e-03, 1.30759762e-03,\n",
       "       1.30369743e-03, 1.29928718e-03, 1.29595906e-03, 1.29132131e-03,\n",
       "       1.28415950e-03, 1.28081188e-03, 1.27197938e-03, 1.25728556e-03,\n",
       "       1.25081432e-03, 1.23835709e-03, 1.23430539e-03, 1.22488552e-03,\n",
       "       1.21704717e-03, 1.21235958e-03, 1.20297691e-03, 1.19727524e-03,\n",
       "       1.18997351e-03, 1.17752864e-03, 1.17549750e-03, 1.17060037e-03,\n",
       "       1.16331905e-03, 1.15883101e-03, 1.15095443e-03, 1.13662826e-03,\n",
       "       1.12217945e-03, 1.11575207e-03, 1.10929359e-03, 1.10412894e-03,\n",
       "       1.09865626e-03, 1.08999104e-03, 1.08288139e-03, 1.07555156e-03,\n",
       "       1.06985931e-03, 1.06778969e-03, 1.05910535e-03, 1.05543860e-03,\n",
       "       1.04484751e-03, 1.04235427e-03, 1.03651111e-03, 1.03296233e-03,\n",
       "       1.02468287e-03, 1.01753825e-03, 1.01522715e-03, 1.00342974e-03,\n",
       "       1.00046570e-03, 9.92676614e-04, 9.90248007e-04, 9.86613319e-04,\n",
       "       9.75133871e-04, 9.73212742e-04, 9.63450509e-04, 9.56808257e-04,\n",
       "       9.53800432e-04, 9.52935648e-04, 9.41896382e-04, 9.41723944e-04,\n",
       "       9.33169447e-04, 9.26339516e-04, 9.15005253e-04, 9.09243184e-04,\n",
       "       9.05923921e-04, 8.96453412e-04, 8.84149570e-04, 8.79312574e-04,\n",
       "       8.75470839e-04, 8.66190105e-04, 8.59705343e-04, 8.53581863e-04,\n",
       "       8.45504789e-04, 8.41776051e-04, 8.38872948e-04, 8.35234411e-04,\n",
       "       8.31139036e-04, 8.18243806e-04, 8.16440841e-04, 8.13902074e-04,\n",
       "       8.08756503e-04, 8.04553866e-04, 8.01926460e-04, 7.98141423e-04,\n",
       "       7.91470209e-04, 7.84676855e-04, 7.82800337e-04, 7.78537550e-04,\n",
       "       7.74816199e-04, 7.70872412e-04, 7.67498624e-04, 7.62875603e-04,\n",
       "       7.59935086e-04, 7.55243849e-04, 7.53557299e-04, 7.50573473e-04,\n",
       "       7.47674988e-04, 7.43604873e-04, 7.40574188e-04, 7.36813256e-04,\n",
       "       7.36269722e-04, 7.33733599e-04, 7.29749502e-04, 7.26822456e-04,\n",
       "       7.25123205e-04, 7.21312003e-04, 7.17564619e-04, 7.15993336e-04,\n",
       "       7.13856257e-04, 7.12276992e-04, 7.07808485e-04, 7.07013904e-04,\n",
       "       7.02952354e-04, 6.98662324e-04, 6.97729058e-04, 6.97286688e-04,\n",
       "       6.92593815e-04, 6.90965390e-04, 6.86339021e-04, 6.84539328e-04,\n",
       "       6.82813748e-04, 6.78303821e-04, 6.75100304e-04, 6.72778290e-04,\n",
       "       6.71472125e-04, 6.69148960e-04, 6.65856294e-04, 6.64791883e-04,\n",
       "       6.61747854e-04, 6.58333617e-04, 6.56967748e-04, 6.51739593e-04,\n",
       "       6.50438595e-04, 6.43253047e-04, 6.41290728e-04, 6.38707719e-04,\n",
       "       6.37252958e-04, 6.28423603e-04, 6.26267946e-04, 6.25068070e-04,\n",
       "       6.22821270e-04, 6.21907132e-04, 6.13861021e-04, 6.12958777e-04,\n",
       "       6.10758149e-04, 6.08130630e-04, 6.07398265e-04, 6.04441879e-04,\n",
       "       6.02252048e-04, 5.99686839e-04, 5.96975467e-04, 5.95631656e-04,\n",
       "       5.93519038e-04, 5.89689891e-04, 5.86747912e-04, 5.86298309e-04,\n",
       "       5.84985496e-04, 5.81072592e-04, 5.74956939e-04, 5.73328422e-04,\n",
       "       5.70056152e-04, 5.69055931e-04, 5.66586404e-04, 5.64771467e-04,\n",
       "       5.62113072e-04, 5.60369942e-04, 5.60196962e-04, 5.54779921e-04,\n",
       "       5.53269167e-04, 5.52336340e-04, 5.50117427e-04, 5.48023145e-04,\n",
       "       5.46204962e-04, 5.44970132e-04, 5.43434580e-04, 5.40819613e-04,\n",
       "       5.39891532e-04, 5.37921726e-04, 5.37100090e-04, 5.36459983e-04,\n",
       "       5.33650125e-04, 5.33533450e-04, 5.33412769e-04, 5.28784395e-04,\n",
       "       5.26573187e-04, 5.26144579e-04, 5.23086203e-04, 5.22814957e-04,\n",
       "       5.21553471e-04, 5.20201073e-04, 5.17503559e-04, 5.15979104e-04,\n",
       "       5.14809538e-04, 5.13068700e-04, 5.07071571e-04, 5.03902685e-04,\n",
       "       5.02229461e-04, 5.01601835e-04, 5.00036546e-04, 4.98680157e-04,\n",
       "       4.97461055e-04, 4.94717059e-04, 4.93426364e-04, 4.92001104e-04,\n",
       "       4.90835266e-04, 4.87667620e-04, 4.87516204e-04, 4.85420876e-04,\n",
       "       4.84381283e-04, 4.84087683e-04, 4.79676442e-04, 4.78741335e-04,\n",
       "       4.77090016e-04, 4.75012113e-04, 4.72515908e-04, 4.71894646e-04,\n",
       "       4.70164266e-04, 4.68876235e-04, 4.68242169e-04, 4.67188230e-04,\n",
       "       4.64409492e-04, 4.63246381e-04, 4.61852110e-04, 4.58807052e-04,\n",
       "       4.57555646e-04, 4.56527376e-04, 4.55248665e-04, 4.54714488e-04,\n",
       "       4.53921989e-04, 4.51294929e-04, 4.50657319e-04, 4.49210540e-04,\n",
       "       4.48171793e-04, 4.46980993e-04, 4.46101900e-04, 4.43906475e-04,\n",
       "       4.41147630e-04, 4.40729415e-04, 4.39961065e-04, 4.36828599e-04,\n",
       "       4.36508855e-04, 4.33709232e-04, 4.33118910e-04, 4.31276653e-04,\n",
       "       4.29520455e-04, 4.29217241e-04, 4.28470786e-04, 4.27435145e-04,\n",
       "       4.24314509e-04, 4.23304472e-04, 4.22036258e-04, 4.21829669e-04,\n",
       "       4.18642697e-04, 4.17287288e-04, 4.15617573e-04, 4.13776768e-04,\n",
       "       4.13668601e-04, 4.11693252e-04, 4.10162721e-04, 4.09710093e-04,\n",
       "       4.07843631e-04, 4.06689268e-04, 4.03624650e-04, 4.02650553e-04,\n",
       "       4.02613920e-04, 4.01017471e-04, 4.00903171e-04, 4.00347664e-04,\n",
       "       3.97270299e-04, 3.96560412e-04, 3.96187839e-04, 3.95443665e-04,\n",
       "       3.93039616e-04, 3.92387966e-04, 3.90614797e-04, 3.90153632e-04,\n",
       "       3.88900080e-04, 3.88239302e-04, 3.86720996e-04, 3.85728859e-04,\n",
       "       3.85012521e-04, 3.83802115e-04, 3.81833299e-04, 3.80917608e-04,\n",
       "       3.80410495e-04, 3.78384596e-04, 3.77589981e-04, 3.76650075e-04,\n",
       "       3.75746282e-04, 3.73720084e-04, 3.73435782e-04, 3.72844369e-04,\n",
       "       3.72706448e-04, 3.68987848e-04, 3.66861714e-04, 3.66716822e-04,\n",
       "       3.65851918e-04, 3.65021503e-04, 3.62595349e-04, 3.62333062e-04,\n",
       "       3.60397474e-04, 3.60012938e-04, 3.59072621e-04, 3.58217820e-04,\n",
       "       3.56690757e-04, 3.56409794e-04, 3.55208552e-04, 3.54806925e-04,\n",
       "       3.53928267e-04, 3.52836206e-04, 3.51175185e-04, 3.50727188e-04,\n",
       "       3.48725709e-04, 3.48510454e-04, 3.47264756e-04, 3.46324520e-04,\n",
       "       3.45421101e-04, 3.44786901e-04, 3.43178080e-04, 3.42242326e-04,\n",
       "       3.40658954e-04, 3.39769025e-04, 3.38124998e-04, 3.37495706e-04,\n",
       "       3.35450581e-04, 3.35319259e-04, 3.34384649e-04, 3.33687348e-04,\n",
       "       3.32615203e-04, 3.31755180e-04, 3.30607483e-04, 3.29554272e-04,\n",
       "       3.29143240e-04, 3.28324928e-04, 3.27066858e-04, 3.24826403e-04,\n",
       "       3.24410426e-04, 3.23182745e-04, 3.22918059e-04, 3.22206388e-04,\n",
       "       3.21298277e-04, 3.20212493e-04, 3.18390346e-04, 3.17874786e-04,\n",
       "       3.17333423e-04, 3.17284039e-04, 3.14977872e-04, 3.13766608e-04,\n",
       "       3.13094510e-04, 3.12450421e-04, 3.11240964e-04, 3.10555229e-04,\n",
       "       3.10265441e-04, 3.09500850e-04, 3.08635831e-04, 3.07423128e-04,\n",
       "       3.07039623e-04, 3.06017694e-04, 3.05398921e-04, 3.04605666e-04,\n",
       "       3.03436368e-04, 3.01683639e-04, 3.01179376e-04, 3.00729605e-04,\n",
       "       2.99459152e-04, 2.98749205e-04, 2.98461183e-04, 2.97841052e-04,\n",
       "       2.96591974e-04, 2.95194146e-04, 2.93589527e-04, 2.93079577e-04,\n",
       "       2.92518742e-04, 2.91707959e-04, 2.90848700e-04, 2.89417086e-04,\n",
       "       2.89190993e-04, 2.88686323e-04, 2.88145987e-04, 2.86457750e-04,\n",
       "       2.85686861e-04, 2.85538665e-04, 2.83781683e-04, 2.82036905e-04,\n",
       "       2.81316815e-04, 2.80861381e-04, 2.80191226e-04, 2.79532599e-04,\n",
       "       2.78736968e-04, 2.77614031e-04, 2.76557505e-04, 2.75066933e-04,\n",
       "       2.74577082e-04, 2.73716632e-04, 2.72621875e-04, 2.71423188e-04,\n",
       "       2.71066820e-04, 2.70517728e-04, 2.70236457e-04, 2.69235768e-04,\n",
       "       2.68230784e-04, 2.66571685e-04, 2.66268051e-04, 2.65267472e-04,\n",
       "       2.64487948e-04, 2.63220226e-04, 2.62844141e-04, 2.61875458e-04,\n",
       "       2.61050849e-04, 2.60943674e-04, 2.59685031e-04, 2.58335788e-04,\n",
       "       2.57361458e-04, 2.56824325e-04, 2.55521799e-04, 2.54406424e-04,\n",
       "       2.53240286e-04, 2.51793649e-04, 2.50955336e-04, 2.50649536e-04,\n",
       "       2.49444283e-04, 2.49114804e-04, 2.48922454e-04, 2.48031745e-04,\n",
       "       2.45612375e-04, 2.44507866e-04, 2.43839605e-04, 2.43300971e-04,\n",
       "       2.42727367e-04, 2.41984338e-04, 2.41265352e-04, 2.40014835e-04,\n",
       "       2.38845533e-04, 2.38393218e-04, 2.37360445e-04, 2.37027600e-04,\n",
       "       2.36038276e-04, 2.35729965e-04, 2.35517361e-04, 2.35062560e-04,\n",
       "       2.33426629e-04, 2.32915563e-04, 2.31480175e-04, 2.31353751e-04,\n",
       "       2.30647163e-04, 2.30184610e-04, 2.28622237e-04, 2.27690149e-04,\n",
       "       2.27386770e-04, 2.25832673e-04, 2.25016253e-04, 2.24629841e-04,\n",
       "       2.24271881e-04, 2.23858967e-04, 2.22836176e-04, 2.22037788e-04,\n",
       "       2.21288494e-04, 2.20167006e-04, 2.19947160e-04, 2.19392631e-04,\n",
       "       2.18755909e-04, 2.17777989e-04, 2.17524053e-04, 2.16188972e-04,\n",
       "       2.15163425e-04, 2.14851225e-04, 2.14156853e-04, 2.13147911e-04,\n",
       "       2.12194101e-04, 2.11680079e-04, 2.11248200e-04, 2.10504259e-04,\n",
       "       2.10043691e-04, 2.09433420e-04, 2.07945941e-04, 2.07502571e-04,\n",
       "       2.07228676e-04, 2.06548056e-04, 2.06285306e-04, 2.05119836e-04,\n",
       "       2.04478817e-04, 2.03476782e-04, 2.03085439e-04, 2.01756805e-04,\n",
       "       2.00617483e-04, 2.00117525e-04, 1.99591817e-04, 1.98650457e-04,\n",
       "       1.98039254e-04, 1.97285585e-04, 1.97037944e-04, 1.96790762e-04,\n",
       "       1.94930725e-04, 1.94514970e-04, 1.92950996e-04, 1.92780945e-04,\n",
       "       1.91228577e-04, 1.90120989e-04, 1.89793935e-04, 1.89201026e-04,\n",
       "       1.88155992e-04, 1.88038032e-04, 1.87190122e-04, 1.85512696e-04,\n",
       "       1.85238428e-04, 1.84796837e-04, 1.83958125e-04, 1.82826319e-04,\n",
       "       1.81606589e-04, 1.81278159e-04, 1.80976927e-04, 1.80231121e-04,\n",
       "       1.79362366e-04, 1.78849363e-04, 1.78541267e-04, 1.77136460e-04,\n",
       "       1.76566515e-04, 1.75889878e-04, 1.75320906e-04, 1.74981465e-04,\n",
       "       1.74558150e-04, 1.73549821e-04, 1.73021888e-04, 1.72209494e-04,\n",
       "       1.70813296e-04, 1.70342599e-04, 1.69585965e-04, 1.69435847e-04,\n",
       "       1.68362456e-04, 1.67962921e-04, 1.67808751e-04, 1.67014447e-04,\n",
       "       1.65974515e-04, 1.65231636e-04, 1.64569561e-04, 1.64062727e-04,\n",
       "       1.63923757e-04, 1.63138990e-04, 1.62771602e-04, 1.61715552e-04,\n",
       "       1.61366160e-04, 1.61240597e-04, 1.60704947e-04, 1.59783476e-04,\n",
       "       1.59510514e-04, 1.58273360e-04, 1.58177764e-04, 1.57559286e-04,\n",
       "       1.57089090e-04, 1.55942023e-04, 1.55276665e-04, 1.54874563e-04,\n",
       "       1.54566976e-04, 1.54289778e-04, 1.53844246e-04, 1.52646480e-04,\n",
       "       1.51898822e-04, 1.51268110e-04, 1.50967292e-04, 1.50454205e-04,\n",
       "       1.50251125e-04, 1.49783836e-04, 1.48583792e-04, 1.48354651e-04,\n",
       "       1.47599082e-04, 1.46890952e-04, 1.46495376e-04, 1.45961002e-04,\n",
       "       1.45739428e-04, 1.44657936e-04, 1.43781468e-04, 1.43597315e-04,\n",
       "       1.43339479e-04, 1.42643623e-04, 1.41656314e-04, 1.41444361e-04,\n",
       "       1.40916091e-04, 1.40632556e-04, 1.39663790e-04, 1.39327915e-04,\n",
       "       1.39192523e-04, 1.37609985e-04, 1.37250793e-04, 1.35671729e-04,\n",
       "       1.35015646e-04, 1.34446272e-04, 1.33631094e-04, 1.32971169e-04,\n",
       "       1.32889725e-04, 1.32431592e-04, 1.31666940e-04, 1.31216534e-04,\n",
       "       1.30626396e-04, 1.30275589e-04, 1.28925590e-04, 1.28721565e-04,\n",
       "       1.28229385e-04, 1.27926905e-04, 1.27180007e-04, 1.26805493e-04,\n",
       "       1.26262580e-04, 1.25476148e-04, 1.24039454e-04, 1.23166566e-04,\n",
       "       1.22509262e-04, 1.22340369e-04, 1.21696788e-04, 1.21507580e-04,\n",
       "       1.20700132e-04, 1.20493359e-04, 1.19565069e-04, 1.18930858e-04,\n",
       "       1.18353261e-04, 1.17676680e-04, 1.16256046e-04, 1.15577448e-04,\n",
       "       1.15429734e-04, 1.14985553e-04, 1.14552227e-04, 1.14097197e-04,\n",
       "       1.13736991e-04, 1.12939358e-04, 1.12481420e-04, 1.11811045e-04,\n",
       "       1.11699801e-04, 1.10299179e-04, 1.09781443e-04, 1.09203388e-04,\n",
       "       1.08594757e-04, 1.08174593e-04, 1.07778139e-04, 1.07183482e-04,\n",
       "       1.06965911e-04, 1.05748465e-04, 1.05523035e-04, 1.04948390e-04,\n",
       "       1.04035479e-04, 1.03760486e-04, 1.03545415e-04, 1.02405903e-04,\n",
       "       1.02089513e-04, 1.01525916e-04, 1.01165815e-04, 1.00089800e-04,\n",
       "       9.93678955e-05, 9.90717978e-05, 9.85615735e-05, 9.80515511e-05,\n",
       "       9.75017362e-05, 9.65243888e-05, 9.60952475e-05, 9.58252315e-05])"
      ]
     },
     "execution_count": 13,
     "metadata": {},
     "output_type": "execute_result"
    }
   ],
   "source": [
    "pca.explained_variance_ratio_"
   ]
  },
  {
   "cell_type": "code",
   "execution_count": 14,
   "metadata": {},
   "outputs": [],
   "source": [
    "LR_pca = LogisticRegression()\n",
    "LR_pca.fit(X_train_red, y_train)\n",
    "LR_pca_pred = LR_pca.predict(X_validate_red)"
   ]
  },
  {
   "cell_type": "code",
   "execution_count": 122,
   "metadata": {},
   "outputs": [],
   "source": [
    "MLP_pca = MLPClassifier(max_iter=5000)\n",
    "MLP_pca.fit(X_train_red, y_train)\n",
    "MLP_pca_pred = MLP_pca.predict(X_validate_red)"
   ]
  },
  {
   "cell_type": "code",
   "execution_count": 118,
   "metadata": {},
   "outputs": [
    {
     "data": {
      "text/plain": [
       "(1000L, 100L)"
      ]
     },
     "execution_count": 118,
     "metadata": {},
     "output_type": "execute_result"
    }
   ],
   "source": [
    "df_test_red.shape"
   ]
  },
  {
   "cell_type": "code",
   "execution_count": 9,
   "metadata": {},
   "outputs": [],
   "source": [
    "def accuracy(predictions, actual):\n",
    "    return (np.sum(predictions == actual) / float(len(predictions)))"
   ]
  },
  {
   "cell_type": "code",
   "execution_count": 15,
   "metadata": {},
   "outputs": [],
   "source": [
    "def similarity(pred1, pred2):\n",
    "    a = np.loadtxt(pred1, skiprows=1, usecols=1, delimiter=',')\n",
    "    b = np.loadtxt(pred2, skiprows=1, usecols=1, delimiter=',')\n",
    "    acc = accuracy(a, b)\n",
    "    del a\n",
    "    del b\n",
    "    return acc"
   ]
  },
  {
   "cell_type": "code",
   "execution_count": 21,
   "metadata": {},
   "outputs": [],
   "source": [
    "def objfilesim(obj, f):\n",
    "    a = np.loadtxt(f, skiprows=1, usecols=1, delimiter=',')\n",
    "    acc = accuracy(obj, a)\n",
    "    del a\n",
    "    return acc"
   ]
  },
  {
   "cell_type": "code",
   "execution_count": 146,
   "metadata": {},
   "outputs": [
    {
     "name": "stdout",
     "output_type": "stream",
     "text": [
      "0.9925\n",
      "0.6875\n",
      "0.995\n",
      "0.905\n",
      "0.29\n",
      "0.995\n",
      "0.995\n",
      "0.995\n"
     ]
    }
   ],
   "source": [
    "print accuracy(LR_pred, y_validate)\n",
    "print accuracy(RF_pred, y_validate)\n",
    "print accuracy(MLP_pred, y_validate)\n",
    "print accuracy(KNN_pred, y_validate)\n",
    "print accuracy(SV_pred, y_validate)\n",
    "print accuracy(Ridge_pred, y_validate)\n",
    "print accuracy(LR_pca_pred, y_validate)\n",
    "print accuracy(MLP_pca_pred, y_validate)"
   ]
  },
  {
   "cell_type": "code",
   "execution_count": 35,
   "metadata": {},
   "outputs": [],
   "source": [
    "LR_test_pred = LR.predict(df_test)\n",
    "KNN_test_pred = KNN.predict(df_test)"
   ]
  },
  {
   "cell_type": "code",
   "execution_count": 46,
   "metadata": {},
   "outputs": [],
   "source": [
    "RF_test_pred = RF.predict(df_test)\n",
    "SV_test_pred = SV.predict(df_test)"
   ]
  },
  {
   "cell_type": "code",
   "execution_count": 123,
   "metadata": {},
   "outputs": [
    {
     "ename": "ValueError",
     "evalue": "shapes (1000,100) and (88200,100) not aligned: 100 (dim 1) != 88200 (dim 0)",
     "output_type": "error",
     "traceback": [
      "\u001b[1;31m\u001b[0m",
      "\u001b[1;31mValueError\u001b[0mTraceback (most recent call last)",
      "\u001b[1;32m<ipython-input-123-d74a201760ee>\u001b[0m in \u001b[0;36m<module>\u001b[1;34m()\u001b[0m\n\u001b[1;32m----> 1\u001b[1;33m \u001b[0mMLP_test_pred\u001b[0m \u001b[1;33m=\u001b[0m \u001b[0mMLP\u001b[0m\u001b[1;33m.\u001b[0m\u001b[0mpredict\u001b[0m\u001b[1;33m(\u001b[0m\u001b[0mdf_test_red\u001b[0m\u001b[1;33m)\u001b[0m\u001b[1;33m\u001b[0m\u001b[0m\n\u001b[0m",
      "\u001b[1;32mC:\\Users\\David\\Anaconda2\\lib\\site-packages\\sklearn\\neural_network\\multilayer_perceptron.pyc\u001b[0m in \u001b[0;36mpredict\u001b[1;34m(self, X)\u001b[0m\n\u001b[0;32m    947\u001b[0m         \"\"\"\n\u001b[0;32m    948\u001b[0m         \u001b[0mcheck_is_fitted\u001b[0m\u001b[1;33m(\u001b[0m\u001b[0mself\u001b[0m\u001b[1;33m,\u001b[0m \u001b[1;34m\"coefs_\"\u001b[0m\u001b[1;33m)\u001b[0m\u001b[1;33m\u001b[0m\u001b[0m\n\u001b[1;32m--> 949\u001b[1;33m         \u001b[0my_pred\u001b[0m \u001b[1;33m=\u001b[0m \u001b[0mself\u001b[0m\u001b[1;33m.\u001b[0m\u001b[0m_predict\u001b[0m\u001b[1;33m(\u001b[0m\u001b[0mX\u001b[0m\u001b[1;33m)\u001b[0m\u001b[1;33m\u001b[0m\u001b[0m\n\u001b[0m\u001b[0;32m    950\u001b[0m \u001b[1;33m\u001b[0m\u001b[0m\n\u001b[0;32m    951\u001b[0m         \u001b[1;32mif\u001b[0m \u001b[0mself\u001b[0m\u001b[1;33m.\u001b[0m\u001b[0mn_outputs_\u001b[0m \u001b[1;33m==\u001b[0m \u001b[1;36m1\u001b[0m\u001b[1;33m:\u001b[0m\u001b[1;33m\u001b[0m\u001b[0m\n",
      "\u001b[1;32mC:\\Users\\David\\Anaconda2\\lib\\site-packages\\sklearn\\neural_network\\multilayer_perceptron.pyc\u001b[0m in \u001b[0;36m_predict\u001b[1;34m(self, X)\u001b[0m\n\u001b[0;32m    676\u001b[0m                                          layer_units[i + 1])))\n\u001b[0;32m    677\u001b[0m         \u001b[1;31m# forward propagate\u001b[0m\u001b[1;33m\u001b[0m\u001b[1;33m\u001b[0m\u001b[0m\n\u001b[1;32m--> 678\u001b[1;33m         \u001b[0mself\u001b[0m\u001b[1;33m.\u001b[0m\u001b[0m_forward_pass\u001b[0m\u001b[1;33m(\u001b[0m\u001b[0mactivations\u001b[0m\u001b[1;33m)\u001b[0m\u001b[1;33m\u001b[0m\u001b[0m\n\u001b[0m\u001b[0;32m    679\u001b[0m         \u001b[0my_pred\u001b[0m \u001b[1;33m=\u001b[0m \u001b[0mactivations\u001b[0m\u001b[1;33m[\u001b[0m\u001b[1;33m-\u001b[0m\u001b[1;36m1\u001b[0m\u001b[1;33m]\u001b[0m\u001b[1;33m\u001b[0m\u001b[0m\n\u001b[0;32m    680\u001b[0m \u001b[1;33m\u001b[0m\u001b[0m\n",
      "\u001b[1;32mC:\\Users\\David\\Anaconda2\\lib\\site-packages\\sklearn\\neural_network\\multilayer_perceptron.pyc\u001b[0m in \u001b[0;36m_forward_pass\u001b[1;34m(self, activations)\u001b[0m\n\u001b[0;32m    103\u001b[0m         \u001b[1;32mfor\u001b[0m \u001b[0mi\u001b[0m \u001b[1;32min\u001b[0m \u001b[0mrange\u001b[0m\u001b[1;33m(\u001b[0m\u001b[0mself\u001b[0m\u001b[1;33m.\u001b[0m\u001b[0mn_layers_\u001b[0m \u001b[1;33m-\u001b[0m \u001b[1;36m1\u001b[0m\u001b[1;33m)\u001b[0m\u001b[1;33m:\u001b[0m\u001b[1;33m\u001b[0m\u001b[0m\n\u001b[0;32m    104\u001b[0m             activations[i + 1] = safe_sparse_dot(activations[i],\n\u001b[1;32m--> 105\u001b[1;33m                                                  self.coefs_[i])\n\u001b[0m\u001b[0;32m    106\u001b[0m             \u001b[0mactivations\u001b[0m\u001b[1;33m[\u001b[0m\u001b[0mi\u001b[0m \u001b[1;33m+\u001b[0m \u001b[1;36m1\u001b[0m\u001b[1;33m]\u001b[0m \u001b[1;33m+=\u001b[0m \u001b[0mself\u001b[0m\u001b[1;33m.\u001b[0m\u001b[0mintercepts_\u001b[0m\u001b[1;33m[\u001b[0m\u001b[0mi\u001b[0m\u001b[1;33m]\u001b[0m\u001b[1;33m\u001b[0m\u001b[0m\n\u001b[0;32m    107\u001b[0m \u001b[1;33m\u001b[0m\u001b[0m\n",
      "\u001b[1;32mC:\\Users\\David\\Anaconda2\\lib\\site-packages\\sklearn\\utils\\extmath.pyc\u001b[0m in \u001b[0;36msafe_sparse_dot\u001b[1;34m(a, b, dense_output)\u001b[0m\n\u001b[0;32m    138\u001b[0m         \u001b[1;32mreturn\u001b[0m \u001b[0mret\u001b[0m\u001b[1;33m\u001b[0m\u001b[0m\n\u001b[0;32m    139\u001b[0m     \u001b[1;32melse\u001b[0m\u001b[1;33m:\u001b[0m\u001b[1;33m\u001b[0m\u001b[0m\n\u001b[1;32m--> 140\u001b[1;33m         \u001b[1;32mreturn\u001b[0m \u001b[0mnp\u001b[0m\u001b[1;33m.\u001b[0m\u001b[0mdot\u001b[0m\u001b[1;33m(\u001b[0m\u001b[0ma\u001b[0m\u001b[1;33m,\u001b[0m \u001b[0mb\u001b[0m\u001b[1;33m)\u001b[0m\u001b[1;33m\u001b[0m\u001b[0m\n\u001b[0m\u001b[0;32m    141\u001b[0m \u001b[1;33m\u001b[0m\u001b[0m\n\u001b[0;32m    142\u001b[0m \u001b[1;33m\u001b[0m\u001b[0m\n",
      "\u001b[1;31mValueError\u001b[0m: shapes (1000,100) and (88200,100) not aligned: 100 (dim 1) != 88200 (dim 0)"
     ]
    }
   ],
   "source": [
    "MLP_test_pred = MLP.predict(df_test)"
   ]
  },
  {
   "cell_type": "code",
   "execution_count": 15,
   "metadata": {},
   "outputs": [],
   "source": [
    "LR_pca_test_pred = LR_pca.predict(df_test_red)"
   ]
  },
  {
   "cell_type": "code",
   "execution_count": 124,
   "metadata": {},
   "outputs": [],
   "source": [
    "MLP_pca_test_pred = MLP_pca.predict(df_test_red)"
   ]
  },
  {
   "cell_type": "code",
   "execution_count": 17,
   "metadata": {},
   "outputs": [],
   "source": [
    "def write_to_file(filename, predictions):\n",
    "    with open(filename, \"w\") as f:\n",
    "        f.write(\"Id,Prediction\\n\")\n",
    "        for i,p in enumerate(predictions):\n",
    "            f.write(str(i) + \",\" + str(int(p)) + \"\\n\")"
   ]
  },
  {
   "cell_type": "code",
   "execution_count": 94,
   "metadata": {},
   "outputs": [],
   "source": [
    "write_to_file('lrpred.csv', LR_test_pred)\n",
    "write_to_file('knnpred.csv', KNN_test_pred)\n",
    "write_to_file('rfpred.csv', RF_test_pred)\n",
    "write_to_file('svpred.csv', SV_test_pred)\n",
    "write_to_file('mlppred.csv', MLP_test_pred)\n",
    "write_to_file('ridgepred.csv', Ridge_test_pred)"
   ]
  },
  {
   "cell_type": "code",
   "execution_count": 120,
   "metadata": {},
   "outputs": [
    {
     "name": "stdout",
     "output_type": "stream",
     "text": [
      "0.715\n",
      "0.715\n",
      "0.498\n",
      "0.314\n",
      "0.319\n",
      "0.101\n",
      "0.109\n",
      "0.666\n",
      "0.788\n",
      "0.044\n",
      "0.068\n",
      "0.052\n"
     ]
    }
   ],
   "source": [
    "print similarity('phil.csv', 'lrpred.csv')\n",
    "print objfilesim(LR_test_pred, 'phil.csv')\n",
    "print similarity('lrpred.csv', 'mlppred.csv')\n",
    "print similarity('tc.csv', 'phil.csv')\n",
    "print similarity('tc.csv', 'lrpred.csv')\n",
    "print similarity('tcmlp.csv', 'phil.csv')\n",
    "print similarity('tcmlp.csv', 'lrpred.csv')\n",
    "print objfilesim(LR_pca_test_pred, 'phil.csv')\n",
    "print objfilesim(LR_pca_test_pred, 'lrpred.csv')\n",
    "print objfilesim(MLP_pca_test_pred, 'phil.csv')\n",
    "print objfilesim(MLP_pca_test_pred, 'lrpred.csv')\n",
    "print accuracy(MLP_pca_test_pred, LR_pca_test_pred)"
   ]
  },
  {
   "cell_type": "code",
   "execution_count": 105,
   "metadata": {},
   "outputs": [],
   "source": [
    "def write_convert_zeros(filename, predictions, cls, arr):\n",
    "    with open(filename, \"w\") as f:\n",
    "        f.write(\"Id,Prediction\\n\")\n",
    "        for i,p in enumerate(predictions):\n",
    "            if i in arr:\n",
    "                f.write(str(i) + \",\" + str(int(cls)) + \"\\n\")\n",
    "            else:\n",
    "                f.write(str(i) + \",\" + str(int(p)) + \"\\n\")"
   ]
  },
  {
   "cell_type": "code",
   "execution_count": 57,
   "metadata": {},
   "outputs": [],
   "source": [
    "rws = np.where(~df_test.any(axis=1))[0]"
   ]
  },
  {
   "cell_type": "code",
   "execution_count": 61,
   "metadata": {},
   "outputs": [],
   "source": [
    "write_convert_zeros('mlp9.csv', MLP_test_pred, 9, rws)"
   ]
  },
  {
   "cell_type": "code",
   "execution_count": 18,
   "metadata": {},
   "outputs": [],
   "source": [
    "write_to_file('lrpca800.csv', LR_pca_test_pred)"
   ]
  },
  {
   "cell_type": "code",
   "execution_count": 125,
   "metadata": {},
   "outputs": [],
   "source": [
    "write_to_file('mlppca.csv', MLP_pca_test_pred)"
   ]
  },
  {
   "cell_type": "code",
   "execution_count": 148,
   "metadata": {},
   "outputs": [
    {
     "name": "stdout",
     "output_type": "stream",
     "text": [
      "0.461\n",
      "0.235\n",
      "0.472\n",
      "0.356\n"
     ]
    }
   ],
   "source": [
    "print similarity('lrpca.csv', 'lrpca200.csv')\n",
    "print similarity('lrpca.csv', 'lrpca50.csv')\n",
    "print similarity('lrpca50.csv', 'lrpca200.csv')\n",
    "print similarity('lrpca.csv', 'lrpca100.csv')"
   ]
  },
  {
   "cell_type": "code",
   "execution_count": 156,
   "metadata": {},
   "outputs": [
    {
     "name": "stdout",
     "output_type": "stream",
     "text": [
      "0.531\n"
     ]
    }
   ],
   "source": [
    "print similarity('CNN_2.csv', 'CNN.csv')"
   ]
  },
  {
   "cell_type": "code",
   "execution_count": 151,
   "metadata": {},
   "outputs": [
    {
     "name": "stdout",
     "output_type": "stream",
     "text": [
      "147\n"
     ]
    }
   ],
   "source": [
    "print len(rws)"
   ]
  },
  {
   "cell_type": "code",
   "execution_count": 159,
   "metadata": {},
   "outputs": [
    {
     "name": "stdout",
     "output_type": "stream",
     "text": [
      "0.447\n",
      "0.401\n"
     ]
    }
   ],
   "source": [
    "print similarity('CNN_alldata.csv', 'CNN_2.csv')\n",
    "print similarity('CNN_alldata.csv', '60_pred.csv')"
   ]
  },
  {
   "cell_type": "code",
   "execution_count": null,
   "metadata": {},
   "outputs": [],
   "source": []
  }
 ],
 "metadata": {
  "kernelspec": {
   "display_name": "Python 2",
   "language": "python",
   "name": "python2"
  },
  "language_info": {
   "codemirror_mode": {
    "name": "ipython",
    "version": 2
   },
   "file_extension": ".py",
   "mimetype": "text/x-python",
   "name": "python",
   "nbconvert_exporter": "python",
   "pygments_lexer": "ipython2",
   "version": "2.7.14"
  }
 },
 "nbformat": 4,
 "nbformat_minor": 2
}
