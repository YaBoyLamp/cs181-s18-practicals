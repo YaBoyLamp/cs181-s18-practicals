{
 "cells": [
  {
   "cell_type": "code",
   "execution_count": 1,
   "metadata": {
    "collapsed": true
   },
   "outputs": [],
   "source": [
    "## This file provides starter code for extracting features from the xml files and\n",
    "## for doing some learning.\n",
    "##\n",
    "## The basic set-up: \n",
    "## ----------------\n",
    "## main() will run code to extract features, learn, and make predictions.\n",
    "## \n",
    "## extract_feats() is called by main(), and it will iterate through the \n",
    "## train/test directories and parse each xml file into an xml.etree.ElementTree, \n",
    "## which is a standard python object used to represent an xml file in memory.\n",
    "## (More information about xml.etree.ElementTree objects can be found here:\n",
    "## http://docs.python.org/2/library/xml.etree.elementtree.html\n",
    "## and here: http://eli.thegreenplace.net/2012/03/15/processing-xml-in-python-with-elementtree/)\n",
    "## It will then use a series of \"feature-functions\" that you will write/modify\n",
    "## in order to extract dictionaries of features from each ElementTree object.\n",
    "## Finally, it will produce an N x D sparse design matrix containing the union\n",
    "## of the features contained in the dictionaries produced by your \"feature-functions.\"\n",
    "## This matrix can then be plugged into your learning algorithm.\n",
    "##\n",
    "## The learning and prediction parts of main() are largely left to you, though\n",
    "## it does contain code that randomly picks class-specific weights and predicts\n",
    "## the class with the weights that give the highest score. If your prediction\n",
    "## algorithm involves class-specific weights, you should, of course, learn \n",
    "## these class-specific weights in a more intelligent way.\n",
    "##\n",
    "## Feature-functions:\n",
    "## --------------------\n",
    "## \"feature-functions\" are functions that take an ElementTree object representing\n",
    "## an xml file (which contains, among other things, the sequence of system calls a\n",
    "## piece of potential malware has made), and returns a dictionary mapping feature names to \n",
    "## their respective numeric values. \n",
    "## For instance, a simple feature-function might map a system call history to the\n",
    "## dictionary {'first_call-load_image': 1}. This is a boolean feature indicating\n",
    "## whether the first system call made by the executable was 'load_image'. \n",
    "## Real-valued or count-based features can of course also be defined in this way. \n",
    "## Because this feature-function will be run over ElementTree objects for each \n",
    "## software execution history instance, we will have the (different)\n",
    "## feature values of this feature for each history, and these values will make up \n",
    "## one of the columns in our final design matrix.\n",
    "## Of course, multiple features can be defined within a single dictionary, and in\n",
    "## the end all the dictionaries returned by feature functions (for a particular\n",
    "## training example) will be unioned, so we can collect all the feature values \n",
    "## associated with that particular instance.\n",
    "##\n",
    "## Two example feature-functions, first_last_system_call_feats() and \n",
    "## system_call_count_feats(), are defined below.\n",
    "## The first of these functions indicates what the first and last system-calls \n",
    "## made by an executable are, and the second records the total number of system\n",
    "## calls made by an executable.\n",
    "##\n",
    "## What you need to do:\n",
    "## --------------------\n",
    "## 1. Write new feature-functions (or modify the example feature-functions) to\n",
    "## extract useful features for this prediction task.\n",
    "## 2. Implement an algorithm to learn from the design matrix produced, and to\n",
    "## make predictions on unseen data. Naive code for these two steps is provided\n",
    "## below, and marked by TODOs.\n",
    "##\n",
    "## Computational Caveat\n",
    "## --------------------\n",
    "## Because the biggest of any of the xml files is only around 35MB, the code below \n",
    "## will parse an entire xml file and store it in memory, compute features, and\n",
    "## then get rid of it before parsing the next one. Storing the biggest of the files \n",
    "## in memory should require at most 200MB or so, which should be no problem for\n",
    "## reasonably modern laptops. If this is too much, however, you can lower the\n",
    "## memory requirement by using ElementTree.iterparse(), which does parsing in\n",
    "## a streaming way. See http://eli.thegreenplace.net/2012/03/15/processing-xml-in-python-with-elementtree/\n",
    "## for an example. "
   ]
  },
  {
   "cell_type": "code",
   "execution_count": 2,
   "metadata": {},
   "outputs": [
    {
     "name": "stderr",
     "output_type": "stream",
     "text": [
      "D:\\anaconda\\lib\\site-packages\\h5py\\__init__.py:36: FutureWarning: Conversion of the second argument of issubdtype from `float` to `np.floating` is deprecated. In future, it will be treated as `np.float64 == np.dtype(float).type`.\n",
      "  from ._conv import register_converters as _register_converters\n",
      "Using TensorFlow backend.\n"
     ]
    }
   ],
   "source": [
    "import os\n",
    "from collections import Counter\n",
    "from queue import Queue\n",
    "try:\n",
    "    import xml.etree.cElementTree as ET\n",
    "except ImportError:\n",
    "    import xml.etree.ElementTree as ET\n",
    "import numpy as np\n",
    "from scipy import sparse\n",
    "import tensorflow as tf\n",
    "import keras\n",
    "from keras.models import Sequential\n",
    "from keras.layers import Dense, Dropout, Activation\n",
    "from keras.optimizers import SGD\n",
    "import matplotlib.pyplot as plt\n",
    "\n",
    "from sklearn.ensemble import RandomForestClassifier, AdaBoostClassifier\n",
    "from sklearn.linear_model import LogisticRegression, SGDClassifier, RidgeClassifier\n",
    "from sklearn.neural_network import MLPClassifier\n",
    "from sklearn.feature_selection import SelectFromModel\n",
    "import util"
   ]
  },
  {
   "cell_type": "code",
   "execution_count": 3,
   "metadata": {
    "collapsed": true
   },
   "outputs": [],
   "source": [
    "def extract_feats(ffs, direc=\"train\", global_feat_dict=None):\n",
    "    \"\"\"\n",
    "    arguments:\n",
    "      ffs are a list of feature-functions.\n",
    "      direc is a directory containing xml files (expected to be train or test).\n",
    "      global_feat_dict is a dictionary mapping feature_names to column-numbers; it\n",
    "      should only be provided when extracting features from test data, so that \n",
    "      the columns of the test matrix align correctly.\n",
    "\n",
    "    returns: \n",
    "      a sparse design matrix, a dict mapping features to column-numbers,\n",
    "      a vector of target classes, and a list of system-call-history ids in order \n",
    "      of their rows in the design matrix.\n",
    "      \n",
    "      Note: the vector of target classes returned will contain the true indices of the\n",
    "      target classes on the training data, but will contain only -1's on the test\n",
    "      data\n",
    "    \"\"\"\n",
    "    fds = [] # list of feature dicts\n",
    "    classes = []\n",
    "    ids = [] \n",
    "    for datafile in os.listdir(direc):\n",
    "        # extract id and true class (if available) from filename\n",
    "        id_str,clazz = datafile.split('.')[:2]\n",
    "        ids.append(id_str)\n",
    "        # add target class if this is training data\n",
    "        try:\n",
    "            classes.append(util.malware_classes.index(clazz))\n",
    "        except ValueError:\n",
    "            # we should only fail to find the label in our list of malware classes\n",
    "            # if this is test data, which always has an \"X\" label\n",
    "            assert clazz == \"X\"\n",
    "            classes.append(-1)\n",
    "        rowfd = {}\n",
    "        # parse file as an xml document\n",
    "        tree = ET.parse(os.path.join(direc,datafile))\n",
    "        # accumulate features\n",
    "        [rowfd.update(ff(tree)) for ff in ffs]\n",
    "        fds.append(rowfd)\n",
    "        \n",
    "    X,feat_dict = make_design_mat(fds,global_feat_dict)\n",
    "    return X, feat_dict, np.array(classes), ids\n",
    "\n",
    "\n",
    "def make_design_mat(fds, global_feat_dict=None):\n",
    "    \"\"\"\n",
    "    arguments:\n",
    "      fds is a list of feature dicts (one for each row).\n",
    "      global_feat_dict is a dictionary mapping feature_names to column-numbers; it\n",
    "      should only be provided when extracting features from test data, so that \n",
    "      the columns of the test matrix align correctly.\n",
    "       \n",
    "    returns: \n",
    "        a sparse NxD design matrix, where N == len(fds) and D is the number of\n",
    "        the union of features defined in any of the fds \n",
    "    \"\"\"\n",
    "    if global_feat_dict is None:\n",
    "        all_feats = set()\n",
    "        [all_feats.update(fd.keys()) for fd in fds]\n",
    "        feat_dict = dict([(feat, i) for i, feat in enumerate(sorted(all_feats))])\n",
    "    else:\n",
    "        feat_dict = global_feat_dict\n",
    "        \n",
    "    cols = []\n",
    "    rows = []\n",
    "    data = []        \n",
    "    for i in range(len(fds)):\n",
    "        temp_cols = []\n",
    "        temp_data = []\n",
    "        for feat,val in fds[i].items():\n",
    "            try:\n",
    "                # update temp_cols iff update temp_data\n",
    "                temp_cols.append(feat_dict[feat])\n",
    "                temp_data.append(val)\n",
    "            except KeyError as ex:\n",
    "                if global_feat_dict is not None:\n",
    "                    pass  # new feature in test data; nbd\n",
    "                else:\n",
    "                    raise ex\n",
    "\n",
    "        # all fd's features in the same row\n",
    "        k = len(temp_cols)\n",
    "        cols.extend(temp_cols)\n",
    "        data.extend(temp_data)\n",
    "        rows.extend([i]*k)\n",
    "\n",
    "    assert len(cols) == len(rows) and len(rows) == len(data)\n",
    "   \n",
    "\n",
    "    X = sparse.csr_matrix((np.array(data),\n",
    "                   (np.array(rows), np.array(cols))),\n",
    "                   shape=(len(fds), len(feat_dict)))\n",
    "    return X, feat_dict\n",
    "    "
   ]
  },
  {
   "cell_type": "code",
   "execution_count": 4,
   "metadata": {
    "collapsed": true
   },
   "outputs": [],
   "source": [
    "## Here are two example feature-functions. They each take an xml.etree.ElementTree object, \n",
    "# (i.e., the result of parsing an xml file) and returns a dictionary mapping \n",
    "# feature-names to numeric values.\n",
    "## TODO: modify these functions, and/or add new ones.\n",
    "def first_last_system_call_feats(tree):\n",
    "    \"\"\"\n",
    "    arguments:\n",
    "      tree is an xml.etree.ElementTree object\n",
    "    returns:\n",
    "      a dictionary mapping 'first_call-x' to 1 if x was the first system call\n",
    "      made, and 'last_call-y' to 1 if y was the last system call made. \n",
    "      (in other words, it returns a dictionary indicating what the first and \n",
    "      last system calls made by an executable were.)\n",
    "    \"\"\"\n",
    "    c = Counter()\n",
    "    in_all_section = False\n",
    "    first = True # is this the first system call\n",
    "    last_call = None # keep track of last call we've seen\n",
    "    for el in tree.iter():\n",
    "        # ignore everything outside the \"all_section\" element\n",
    "        if el.tag == \"all_section\" and not in_all_section:\n",
    "            in_all_section = True\n",
    "        elif el.tag == \"all_section\" and in_all_section:\n",
    "            in_all_section = False\n",
    "        elif in_all_section:\n",
    "            if first:\n",
    "                c[\"first_call-\"+el.tag] = 1\n",
    "                first = False\n",
    "            last_call = el.tag  # update last call seen\n",
    "            \n",
    "    # finally, mark last call seen\n",
    "    c[\"last_call-\"+last_call] = 1\n",
    "    return c\n",
    "\n",
    "def system_call_count_feats(tree):\n",
    "    \"\"\"\n",
    "    arguments:\n",
    "      tree is an xml.etree.ElementTree object\n",
    "    returns:\n",
    "      a dictionary mapping 'num_system_calls' to the number of system_calls\n",
    "      made by an executable (summed over all processes)\n",
    "    \"\"\"\n",
    "    c = Counter()\n",
    "    in_all_section = False\n",
    "    for el in tree.iter():\n",
    "        # ignore everything outside the \"all_section\" element\n",
    "        if el.tag == \"all_section\" and not in_all_section:\n",
    "            in_all_section = True\n",
    "        elif el.tag == \"all_section\" and in_all_section:\n",
    "            in_all_section = False\n",
    "        elif in_all_section:\n",
    "            c['num_system_calls'] += 1\n",
    "    return c\n",
    "\n",
    "def sys_call_count_feats(tree):\n",
    "    \"\"\"\n",
    "    arguments:\n",
    "      tree is an xml.etree.ElementTree object\n",
    "    returns:\n",
    "      a dictionary mapping el.tag to the number of times each system call \n",
    "      is made by an executable (summed over all processes)\n",
    "    \"\"\"\n",
    "    c = Counter()\n",
    "    in_all_section = False\n",
    "    for el in tree.iter():\n",
    "        # ignore everything outside the \"all_section\" element\n",
    "        if el.tag == \"all_section\" and not in_all_section:\n",
    "            in_all_section = True\n",
    "        elif el.tag == \"all_section\" and in_all_section:\n",
    "            in_all_section = False\n",
    "        elif in_all_section:\n",
    "            c[el.tag] += 1\n",
    "    return c\n",
    "\n",
    "def n_gram_sys_call_count_feats(tree):\n",
    "    dictionary = Counter()\n",
    "    ns = range(2,12)\n",
    "    for n in ns:\n",
    "        c = Counter()\n",
    "        in_all_section = False\n",
    "        q = Queue(maxsize = n - 1)\n",
    "        total = 0\n",
    "        for el in tree.iter():\n",
    "            # ignore everything outside the \"all_section\" element\n",
    "            if el.tag == \"all_section\" and not in_all_section:\n",
    "                in_all_section = True\n",
    "            elif el.tag == \"all_section\" and in_all_section:\n",
    "                in_all_section = False\n",
    "            elif in_all_section and not q.full():\n",
    "                q.put(el.tag)\n",
    "            elif in_all_section:\n",
    "                key = \"-\".join([str(elt) for elt in list(q.queue)]) + \"-\" + el.tag\n",
    "                c[key] += 1\n",
    "                total += 1\n",
    "                q.get()\n",
    "                q.put(el.tag)\n",
    "        c = {k: v / total for k, v in c.items()}\n",
    "        dictionary.update(c)\n",
    "    return dictionary\n",
    "\n",
    "def naive_bayes(X_train, t_train, X_test, global_feat_dict, test_features_dict, lamb_param):\n",
    "    sums = np.zeros(len(util.malware_classes))\n",
    "\n",
    "    for i in range(X_train.shape[0]):\n",
    "        sums[t_train[i]] += np.sum(X_train[i])\n",
    "    \n",
    "    prior = [3.69,1.62,1.2,1.03,1.33,1.26,1.72,1.33,52.14,.68,17.56,1.04,12.18,1.91,1.3]\n",
    "    \n",
    "    scores = np.zeros((X_test.shape[0], len(util.malware_classes)))\n",
    "    for i in range(X_test.shape[0]):\n",
    "        for j in range(X_test.shape[1]):\n",
    "            for k in range(len(util.malware_classes)):\n",
    "                scores[i][k] += np.log((X_test[(i,j)] + lamb_param) / (sums[k] + len(test_features_dict) * lamb_param))\n",
    "\n",
    "    scores = scores.T\n",
    "    for k in range(len(scores)):\n",
    "        scores[k] += np.log(prior[k] / 100) * 110\n",
    "    scores = scores.T\n",
    "\n",
    "    preds = np.argmax(scores, axis = 1)\n",
    "    print(preds[:30])\n",
    "    print(scores[:30])\n",
    "    print(preds[600:])\n",
    "\n",
    "    return preds\n",
    "\n",
    "def acc(preds, t_validate):\n",
    "    return np.sum(preds == np.array(t_validate)) / len(preds)"
   ]
  },
  {
   "cell_type": "code",
   "execution_count": 5,
   "metadata": {},
   "outputs": [
    {
     "name": "stdout",
     "output_type": "stream",
     "text": [
      "extracting training features...\n",
      "done extracting training features\n",
      "\n"
     ]
    }
   ],
   "source": [
    "## The following function does the feature extraction, learning, and prediction\n",
    "\n",
    "train_dir = \"train\"\n",
    "test_dir = \"test\"\n",
    "outputfile = \"sample_predictions.csv\"  # feel free to change this or take it as an argument\n",
    "\n",
    "# TODO put the names of the feature functions you've defined above in this list\n",
    "ffs = [n_gram_sys_call_count_feats]\n",
    "\n",
    "# extract features\n",
    "print (\"extracting training features...\")\n",
    "X_train,global_feat_dict,t_train,train_ids = extract_feats(ffs, train_dir)\n",
    "print (\"done extracting training features\")\n",
    "print ()"
   ]
  },
  {
   "cell_type": "code",
   "execution_count": 15,
   "metadata": {},
   "outputs": [
    {
     "name": "stdout",
     "output_type": "stream",
     "text": [
      "learning...\n",
      "done learning\n",
      "\n"
     ]
    }
   ],
   "source": [
    "# TODO train here, and learn your classification parameters\n",
    "print (\"learning...\")\n",
    "# learned_W = np.random.random((len(global_feat_dict),len(util.malware_classes)))\n",
    "split = 2300\n",
    "s = np.arange(X_train.shape[0])\n",
    "np.random.shuffle(s)\n",
    "clf = RandomForestClassifier()\n",
    "clf.fit(X_train[s[:split]], t_train[s[:split]])\n",
    "model = SelectFromModel(clf, prefit=True)\n",
    "X_new = model.transform(X_train)\n",
    "new_clf = RandomForestClassifier()\n",
    "new_clf.fit(X_new[s[:split]], t_train[s[:split]])\n",
    "print (\"done learning\")\n",
    "print ()"
   ]
  },
  {
   "cell_type": "code",
   "execution_count": 16,
   "metadata": {},
   "outputs": [
    {
     "name": "stdout",
     "output_type": "stream",
     "text": [
      "0.8676844783715013\n",
      "0.8893129770992366\n"
     ]
    }
   ],
   "source": [
    "preds = clf.predict(X_train[s[split:]])\n",
    "print (acc(preds, t_train[s[split:]]))\n",
    "preds = new_clf.predict(X_new[s[split:]])\n",
    "print (acc(preds, t_train[s[split:]]))"
   ]
  },
  {
   "cell_type": "code",
   "execution_count": 17,
   "metadata": {},
   "outputs": [
    {
     "name": "stdout",
     "output_type": "stream",
     "text": [
      "(3086, 527740)\n",
      "(3086, 1902)\n"
     ]
    }
   ],
   "source": [
    "print (X_train.shape)\n",
    "print (X_new.shape)"
   ]
  },
  {
   "cell_type": "code",
   "execution_count": 8,
   "metadata": {
    "collapsed": true
   },
   "outputs": [],
   "source": [
    "def plot_model_history(model_history):\n",
    "    fig, axs = plt.subplots(1,2,figsize=(15,5))\n",
    "    # summarize history for accuracy\n",
    "    axs[0].plot(range(1,len(model_history.history['acc'])+1),model_history.history['acc'])\n",
    "    axs[0].plot(range(1,len(model_history.history['val_acc'])+1),model_history.history['val_acc'])\n",
    "    axs[0].set_title('Model Accuracy')\n",
    "    axs[0].set_ylabel('Accuracy')\n",
    "    axs[0].set_xlabel('Epoch')\n",
    "    axs[0].set_xticks(np.arange(1,len(model_history.history['acc'])+1),len(model_history.history['acc'])/10)\n",
    "    axs[0].legend(['train', 'val'], loc='best')\n",
    "    # summarize history for loss\n",
    "    axs[1].plot(range(1,len(model_history.history['loss'])+1),model_history.history['loss'])\n",
    "    axs[1].plot(range(1,len(model_history.history['val_loss'])+1),model_history.history['val_loss'])\n",
    "    axs[1].set_title('Model Loss')\n",
    "    axs[1].set_ylabel('Loss')\n",
    "    axs[1].set_xlabel('Epoch')\n",
    "    axs[1].set_xticks(np.arange(1,len(model_history.history['loss'])+1),len(model_history.history['loss'])/10)\n",
    "    axs[1].legend(['train', 'val'], loc='best')\n",
    "    plt.show()"
   ]
  },
  {
   "cell_type": "code",
   "execution_count": 9,
   "metadata": {},
   "outputs": [],
   "source": [
    "model = Sequential()\n",
    "model.add(Dense(8000, activation='relu', input_dim=X_new.shape[1]))\n",
    "model.add(Dropout(0.5))\n",
    "model.add(Dense(14, activation='softmax'))"
   ]
  },
  {
   "cell_type": "code",
   "execution_count": 10,
   "metadata": {},
   "outputs": [],
   "source": [
    "split = 2300\n",
    "s = np.arange(X_new.shape[0])\n",
    "np.random.shuffle(s)\n",
    "onehot_train = tf.Session().run(tf.one_hot(t_train, 14))\n",
    "onehot_train = np.asarray(onehot_train, dtype = int)"
   ]
  },
  {
   "cell_type": "code",
   "execution_count": 11,
   "metadata": {},
   "outputs": [
    {
     "name": "stdout",
     "output_type": "stream",
     "text": [
      "Train on 2300 samples, validate on 786 samples\n",
      "Epoch 1/40\n",
      "2300/2300 [==============================] - 6s 3ms/step - loss: 1.1927 - acc: 0.6791 - val_loss: 0.8764 - val_acc: 0.7557\n",
      "Epoch 2/40\n",
      "2300/2300 [==============================] - 5s 2ms/step - loss: 0.7682 - acc: 0.7726 - val_loss: 0.7414 - val_acc: 0.7697\n",
      "Epoch 3/40\n",
      "2300/2300 [==============================] - 5s 2ms/step - loss: 0.6248 - acc: 0.8022 - val_loss: 0.6504 - val_acc: 0.7952\n",
      "Epoch 4/40\n",
      "2300/2300 [==============================] - 5s 2ms/step - loss: 0.5386 - acc: 0.8313 - val_loss: 0.6038 - val_acc: 0.8168\n",
      "Epoch 5/40\n",
      "2300/2300 [==============================] - 5s 2ms/step - loss: 0.4642 - acc: 0.8557 - val_loss: 0.5367 - val_acc: 0.8384\n",
      "Epoch 6/40\n",
      "2300/2300 [==============================] - 5s 2ms/step - loss: 0.4209 - acc: 0.8683 - val_loss: 0.5227 - val_acc: 0.8422\n",
      "Epoch 7/40\n",
      "2300/2300 [==============================] - 5s 2ms/step - loss: 0.3834 - acc: 0.8743 - val_loss: 0.5367 - val_acc: 0.8346\n",
      "Epoch 8/40\n",
      "2300/2300 [==============================] - 5s 2ms/step - loss: 0.3597 - acc: 0.8791 - val_loss: 0.5137 - val_acc: 0.8422\n",
      "Epoch 9/40\n",
      "2300/2300 [==============================] - 5s 2ms/step - loss: 0.3329 - acc: 0.8904 - val_loss: 0.4929 - val_acc: 0.8461\n",
      "Epoch 10/40\n",
      "2300/2300 [==============================] - 5s 2ms/step - loss: 0.3128 - acc: 0.8957 - val_loss: 0.4997 - val_acc: 0.8486\n",
      "Epoch 11/40\n",
      "2300/2300 [==============================] - 5s 2ms/step - loss: 0.2974 - acc: 0.8948 - val_loss: 0.5134 - val_acc: 0.8410\n",
      "Epoch 12/40\n",
      "2300/2300 [==============================] - 5s 2ms/step - loss: 0.2923 - acc: 0.9013 - val_loss: 0.4919 - val_acc: 0.8537\n",
      "Epoch 13/40\n",
      "2300/2300 [==============================] - 5s 2ms/step - loss: 0.2731 - acc: 0.9070 - val_loss: 0.5076 - val_acc: 0.8410\n",
      "Epoch 14/40\n",
      "2300/2300 [==============================] - 5s 2ms/step - loss: 0.2632 - acc: 0.9148 - val_loss: 0.4889 - val_acc: 0.8397\n",
      "Epoch 15/40\n",
      "2300/2300 [==============================] - 6s 2ms/step - loss: 0.2591 - acc: 0.9135 - val_loss: 0.5275 - val_acc: 0.8435\n",
      "Epoch 16/40\n",
      "2300/2300 [==============================] - 5s 2ms/step - loss: 0.2434 - acc: 0.9187 - val_loss: 0.5075 - val_acc: 0.8435\n",
      "Epoch 17/40\n",
      "2300/2300 [==============================] - 5s 2ms/step - loss: 0.2538 - acc: 0.9126 - val_loss: 0.5076 - val_acc: 0.8461\n",
      "Epoch 18/40\n",
      "2300/2300 [==============================] - 5s 2ms/step - loss: 0.2322 - acc: 0.9252 - val_loss: 0.4897 - val_acc: 0.8575\n",
      "Epoch 19/40\n",
      "2300/2300 [==============================] - 5s 2ms/step - loss: 0.2236 - acc: 0.9248 - val_loss: 0.4988 - val_acc: 0.8550\n",
      "Epoch 20/40\n",
      "2300/2300 [==============================] - 5s 2ms/step - loss: 0.2025 - acc: 0.9265 - val_loss: 0.5092 - val_acc: 0.8486\n",
      "Epoch 21/40\n",
      "2300/2300 [==============================] - 5s 2ms/step - loss: 0.2090 - acc: 0.9291 - val_loss: 0.5484 - val_acc: 0.8499\n",
      "Epoch 22/40\n",
      "2300/2300 [==============================] - 5s 2ms/step - loss: 0.2033 - acc: 0.9283 - val_loss: 0.5260 - val_acc: 0.8384\n",
      "Epoch 23/40\n",
      "2300/2300 [==============================] - 5s 2ms/step - loss: 0.1915 - acc: 0.9261 - val_loss: 0.5175 - val_acc: 0.8422\n",
      "Epoch 24/40\n",
      "2300/2300 [==============================] - 5s 2ms/step - loss: 0.1885 - acc: 0.9317 - val_loss: 0.5173 - val_acc: 0.8524\n",
      "Epoch 25/40\n",
      "2300/2300 [==============================] - 5s 2ms/step - loss: 0.1772 - acc: 0.9383 - val_loss: 0.5368 - val_acc: 0.8511\n",
      "Epoch 26/40\n",
      "2300/2300 [==============================] - 5s 2ms/step - loss: 0.1859 - acc: 0.9352 - val_loss: 0.5291 - val_acc: 0.8435\n",
      "Epoch 27/40\n",
      "2300/2300 [==============================] - 5s 2ms/step - loss: 0.1776 - acc: 0.9417 - val_loss: 0.5524 - val_acc: 0.8511\n",
      "Epoch 28/40\n",
      "2300/2300 [==============================] - 5s 2ms/step - loss: 0.1766 - acc: 0.9422 - val_loss: 0.5355 - val_acc: 0.8550\n",
      "Epoch 29/40\n",
      "2300/2300 [==============================] - 5s 2ms/step - loss: 0.1680 - acc: 0.9435 - val_loss: 0.5613 - val_acc: 0.8499\n",
      "Epoch 30/40\n",
      "2300/2300 [==============================] - 5s 2ms/step - loss: 0.1824 - acc: 0.9400 - val_loss: 0.5723 - val_acc: 0.8524\n",
      "Epoch 31/40\n",
      "2300/2300 [==============================] - 5s 2ms/step - loss: 0.1572 - acc: 0.9443 - val_loss: 0.5565 - val_acc: 0.8537\n",
      "Epoch 32/40\n",
      "2300/2300 [==============================] - 5s 2ms/step - loss: 0.1651 - acc: 0.9430 - val_loss: 0.5875 - val_acc: 0.8524\n",
      "Epoch 33/40\n",
      "2300/2300 [==============================] - 5s 2ms/step - loss: 0.1599 - acc: 0.9422 - val_loss: 0.6075 - val_acc: 0.8270\n",
      "Epoch 34/40\n",
      "2300/2300 [==============================] - 5s 2ms/step - loss: 0.1538 - acc: 0.9478 - val_loss: 0.5749 - val_acc: 0.8524\n",
      "Epoch 35/40\n",
      "2300/2300 [==============================] - 5s 2ms/step - loss: 0.1474 - acc: 0.9474 - val_loss: 0.5697 - val_acc: 0.8601\n",
      "Epoch 36/40\n",
      "2300/2300 [==============================] - 5s 2ms/step - loss: 0.1475 - acc: 0.9483 - val_loss: 0.5866 - val_acc: 0.8562\n",
      "Epoch 37/40\n",
      "2300/2300 [==============================] - 5s 2ms/step - loss: 0.1477 - acc: 0.9483 - val_loss: 0.6007 - val_acc: 0.8486\n",
      "Epoch 38/40\n",
      "2300/2300 [==============================] - 5s 2ms/step - loss: 0.1449 - acc: 0.9439 - val_loss: 0.5858 - val_acc: 0.8550\n",
      "Epoch 39/40\n",
      "2300/2300 [==============================] - 5s 2ms/step - loss: 0.1485 - acc: 0.9522 - val_loss: 0.6050 - val_acc: 0.8448\n",
      "Epoch 40/40\n",
      "2300/2300 [==============================] - 5s 2ms/step - loss: 0.1570 - acc: 0.9448 - val_loss: 0.5927 - val_acc: 0.8461\n"
     ]
    }
   ],
   "source": [
    "adam = keras.optimizers.Adam(lr=0.001, beta_1=0.9, beta_2=0.999, epsilon=None, decay=0.0, amsgrad=False)\n",
    "model.compile(loss='categorical_crossentropy',\n",
    "              optimizer=adam,\n",
    "              metrics=['accuracy'])\n",
    "model_info = model.fit(X_new[s[:split]], onehot_train[s[:split]],\n",
    "          epochs=25,\n",
    "          batch_size=32, \n",
    "        validation_data = (X_new[s[split:]], onehot_train[s[split:]]))"
   ]
  },
  {
   "cell_type": "code",
   "execution_count": 12,
   "metadata": {},
   "outputs": [
    {
     "data": {
      "image/png": "[encoded data removed]",
      "text/plain": [
       "<matplotlib.figure.Figure at 0x24628f144e0>"
      ]
     },
     "metadata": {},
     "output_type": "display_data"
    }
   ],
   "source": [
    "\n",
    "plot_model_history(model_info)"
   ]
  },
  {
   "cell_type": "code",
   "execution_count": null,
   "metadata": {},
   "outputs": [],
   "source": [
    "NN_preds = model.predict(X_train[s[:split]])\n",
    "acc(NN_preds.argmax(axis=1), t_train[s[:split]])\n"
   ]
  },
  {
   "cell_type": "code",
   "execution_count": 18,
   "metadata": {},
   "outputs": [
    {
     "name": "stdout",
     "output_type": "stream",
     "text": [
      "extracting test features...\n",
      "done extracting test features\n",
      "\n"
     ]
    }
   ],
   "source": [
    "# get rid of training data and load test data\n",
    "# del X_train\n",
    "# del t_train\n",
    "# del train_ids\n",
    "print (\"extracting test features...\")\n",
    "X_test,_,t_ignore,test_ids = extract_feats(ffs, test_dir, global_feat_dict=global_feat_dict)\n",
    "print (\"done extracting test features\")\n",
    "print ()\n",
    "# preds_bayes = naive_bayes(X_train, t_train, X_test, global_feat_dict, test_features_dict, 1)\n",
    "# split = 2300\n",
    "# preds_bayes = naive_bayes(X_train[:split], t_train[:split], X_train[split:], global_feat_dict, global_feat_dict, 5)"
   ]
  },
  {
   "cell_type": "code",
   "execution_count": 19,
   "metadata": {
    "collapsed": true
   },
   "outputs": [],
   "source": [
    "X_new_test = model.transform(X_test)\n",
    "preds = new_clf.predict(X_new_test)"
   ]
  },
  {
   "cell_type": "code",
   "execution_count": 20,
   "metadata": {},
   "outputs": [
    {
     "name": "stdout",
     "output_type": "stream",
     "text": [
      "making predictions...\n",
      "done making predictions\n",
      "\n",
      "writing predictions...\n",
      "done!\n"
     ]
    }
   ],
   "source": [
    "# TODO make predictions on text data and write them out\n",
    "print (\"making predictions...\")\n",
    "# preds = np.argmax(X_train.dot(learned_W),axis=1)\n",
    "# preds = clf.predict(X_test)\n",
    "# print (acc(preds, t_train))\n",
    "print (\"done making predictions\")\n",
    "print ()\n",
    "\n",
    "print (\"writing predictions...\")\n",
    "util.write_predictions(preds, test_ids, outputfile)\n",
    "print (\"done!\")"
   ]
  },
  {
   "cell_type": "code",
   "execution_count": null,
   "metadata": {
    "collapsed": true
   },
   "outputs": [],
   "source": []
  }
 ],
 "metadata": {
  "kernelspec": {
   "display_name": "Python 3",
   "language": "python",
   "name": "python3"
  },
  "language_info": {
   "codemirror_mode": {
    "name": "ipython",
    "version": 3
   },
   "file_extension": ".py",
   "mimetype": "text/x-python",
   "name": "python",
   "nbconvert_exporter": "python",
   "pygments_lexer": "ipython3",
   "version": "3.6.4"
  }
 },
 "nbformat": 4,
 "nbformat_minor": 2
}
